{
 "cells": [
  {
   "cell_type": "markdown",
   "metadata": {},
   "source": [
    "# Statistics and Probability"
   ]
  },
  {
   "cell_type": "markdown",
   "metadata": {},
   "source": [
    "## Descriptive Statistics\n",
    "\n",
    "We are going to use Financial data (Gold and Crude Oil prices) to calculate statistics metrics."
   ]
  },
  {
   "cell_type": "code",
   "execution_count": 1,
   "metadata": {},
   "outputs": [],
   "source": [
    "import pandas as pd\n",
    "import numpy as np\n",
    "import matplotlib.pyplot as plt"
   ]
  },
  {
   "cell_type": "code",
   "execution_count": 5,
   "metadata": {},
   "outputs": [],
   "source": [
    "data = pd.read_excel('Gold_Oil.xlsx',index_col='Date',parse_dates=True)"
   ]
  },
  {
   "cell_type": "code",
   "execution_count": 9,
   "metadata": {},
   "outputs": [
    {
     "data": {
      "text/html": [
       "<div>\n",
       "<style scoped>\n",
       "    .dataframe tbody tr th:only-of-type {\n",
       "        vertical-align: middle;\n",
       "    }\n",
       "\n",
       "    .dataframe tbody tr th {\n",
       "        vertical-align: top;\n",
       "    }\n",
       "\n",
       "    .dataframe thead th {\n",
       "        text-align: right;\n",
       "    }\n",
       "</style>\n",
       "<table border=\"1\" class=\"dataframe\">\n",
       "  <thead>\n",
       "    <tr style=\"text-align: right;\">\n",
       "      <th></th>\n",
       "      <th>Gold</th>\n",
       "      <th>Crude Oil</th>\n",
       "    </tr>\n",
       "    <tr>\n",
       "      <th>Date</th>\n",
       "      <th></th>\n",
       "      <th></th>\n",
       "    </tr>\n",
       "  </thead>\n",
       "  <tbody>\n",
       "    <tr>\n",
       "      <th>2016-06-09</th>\n",
       "      <td>1269.795</td>\n",
       "      <td>50.93</td>\n",
       "    </tr>\n",
       "    <tr>\n",
       "      <th>2016-06-10</th>\n",
       "      <td>1273.845</td>\n",
       "      <td>49.39</td>\n",
       "    </tr>\n",
       "    <tr>\n",
       "      <th>2016-06-13</th>\n",
       "      <td>1283.810</td>\n",
       "      <td>49.12</td>\n",
       "    </tr>\n",
       "    <tr>\n",
       "      <th>2016-06-14</th>\n",
       "      <td>1285.600</td>\n",
       "      <td>48.39</td>\n",
       "    </tr>\n",
       "    <tr>\n",
       "      <th>2016-06-15</th>\n",
       "      <td>1291.810</td>\n",
       "      <td>47.96</td>\n",
       "    </tr>\n",
       "  </tbody>\n",
       "</table>\n",
       "</div>"
      ],
      "text/plain": [
       "                Gold  Crude Oil\n",
       "Date                           \n",
       "2016-06-09  1269.795      50.93\n",
       "2016-06-10  1273.845      49.39\n",
       "2016-06-13  1283.810      49.12\n",
       "2016-06-14  1285.600      48.39\n",
       "2016-06-15  1291.810      47.96"
      ]
     },
     "execution_count": 9,
     "metadata": {},
     "output_type": "execute_result"
    }
   ],
   "source": [
    "data.head()"
   ]
  },
  {
   "cell_type": "code",
   "execution_count": 19,
   "metadata": {},
   "outputs": [],
   "source": [
    "# We calculate returns\n",
    "\n",
    "data['Gold_rets'] = data['Gold']/data['Gold'].shift(1) -1\n",
    "data['Crude_Oil_rets'] = data['Crude Oil']/data['Crude Oil'].shift(1) -1"
   ]
  },
  {
   "cell_type": "code",
   "execution_count": 22,
   "metadata": {},
   "outputs": [],
   "source": [
    "data.dropna(inplace=True)"
   ]
  },
  {
   "cell_type": "code",
   "execution_count": 23,
   "metadata": {},
   "outputs": [
    {
     "data": {
      "text/html": [
       "<div>\n",
       "<style scoped>\n",
       "    .dataframe tbody tr th:only-of-type {\n",
       "        vertical-align: middle;\n",
       "    }\n",
       "\n",
       "    .dataframe tbody tr th {\n",
       "        vertical-align: top;\n",
       "    }\n",
       "\n",
       "    .dataframe thead th {\n",
       "        text-align: right;\n",
       "    }\n",
       "</style>\n",
       "<table border=\"1\" class=\"dataframe\">\n",
       "  <thead>\n",
       "    <tr style=\"text-align: right;\">\n",
       "      <th></th>\n",
       "      <th>Gold</th>\n",
       "      <th>Crude Oil</th>\n",
       "      <th>Gold_rets</th>\n",
       "      <th>Crude_Oil_rets</th>\n",
       "    </tr>\n",
       "    <tr>\n",
       "      <th>Date</th>\n",
       "      <th></th>\n",
       "      <th></th>\n",
       "      <th></th>\n",
       "      <th></th>\n",
       "    </tr>\n",
       "  </thead>\n",
       "  <tbody>\n",
       "    <tr>\n",
       "      <th>2016-06-10</th>\n",
       "      <td>1273.845</td>\n",
       "      <td>49.39</td>\n",
       "      <td>0.003189</td>\n",
       "      <td>-0.030238</td>\n",
       "    </tr>\n",
       "    <tr>\n",
       "      <th>2016-06-13</th>\n",
       "      <td>1283.810</td>\n",
       "      <td>49.12</td>\n",
       "      <td>0.007823</td>\n",
       "      <td>-0.005467</td>\n",
       "    </tr>\n",
       "    <tr>\n",
       "      <th>2016-06-14</th>\n",
       "      <td>1285.600</td>\n",
       "      <td>48.39</td>\n",
       "      <td>0.001394</td>\n",
       "      <td>-0.014862</td>\n",
       "    </tr>\n",
       "    <tr>\n",
       "      <th>2016-06-15</th>\n",
       "      <td>1291.810</td>\n",
       "      <td>47.96</td>\n",
       "      <td>0.004830</td>\n",
       "      <td>-0.008886</td>\n",
       "    </tr>\n",
       "    <tr>\n",
       "      <th>2016-06-16</th>\n",
       "      <td>1278.530</td>\n",
       "      <td>46.54</td>\n",
       "      <td>-0.010280</td>\n",
       "      <td>-0.029608</td>\n",
       "    </tr>\n",
       "  </tbody>\n",
       "</table>\n",
       "</div>"
      ],
      "text/plain": [
       "                Gold  Crude Oil  Gold_rets  Crude_Oil_rets\n",
       "Date                                                      \n",
       "2016-06-10  1273.845      49.39   0.003189       -0.030238\n",
       "2016-06-13  1283.810      49.12   0.007823       -0.005467\n",
       "2016-06-14  1285.600      48.39   0.001394       -0.014862\n",
       "2016-06-15  1291.810      47.96   0.004830       -0.008886\n",
       "2016-06-16  1278.530      46.54  -0.010280       -0.029608"
      ]
     },
     "execution_count": 23,
     "metadata": {},
     "output_type": "execute_result"
    }
   ],
   "source": [
    "data.head()"
   ]
  },
  {
   "cell_type": "markdown",
   "metadata": {},
   "source": [
    "### a) Mean"
   ]
  },
  {
   "cell_type": "code",
   "execution_count": 27,
   "metadata": {},
   "outputs": [],
   "source": [
    "mean_Gold_rets = data['Gold_rets'].mean()\n",
    "mean_Oil_rets = data['Crude_Oil_rets'].mean()"
   ]
  },
  {
   "cell_type": "code",
   "execution_count": 34,
   "metadata": {},
   "outputs": [
    {
     "name": "stdout",
     "output_type": "stream",
     "text": [
      "The average Gold returns is: 0.037 %\n",
      "The average Crude Oil returns is: 0.043 %\n"
     ]
    }
   ],
   "source": [
    "print('The average Gold returns is:',round(mean_Gold_rets*100,3),'%')\n",
    "print('The average Crude Oil returns is:',round(mean_Oil_rets*100,3),'%')"
   ]
  },
  {
   "cell_type": "markdown",
   "metadata": {},
   "source": [
    "### b) Variance and Standard Deviation\n",
    "The *Variance* describe how the data is spread around the mean. Large Variance means that data points are spread far away from the mean. A small Variance means that the data points are grouped closely around the mean."
   ]
  },
  {
   "cell_type": "code",
   "execution_count": 37,
   "metadata": {},
   "outputs": [],
   "source": [
    "Gold_rets_var = np.var(data['Gold_rets'])\n",
    "Oil_rets_var = np.var(data['Crude_Oil_rets'])"
   ]
  },
  {
   "cell_type": "code",
   "execution_count": 43,
   "metadata": {},
   "outputs": [
    {
     "name": "stdout",
     "output_type": "stream",
     "text": [
      "The Gold returns variance is: 6.884659378054447e-05\n",
      "The Crude Oil returns variance is: 0.0008770972290907559\n"
     ]
    }
   ],
   "source": [
    "print('The Gold returns variance is:',Gold_rets_var)\n",
    "print('The Crude Oil returns variance is:',Oil_rets_var)"
   ]
  },
  {
   "cell_type": "markdown",
   "metadata": {},
   "source": [
    "*Standard deviation* is simply the square root of the variance"
   ]
  },
  {
   "cell_type": "code",
   "execution_count": 44,
   "metadata": {},
   "outputs": [],
   "source": [
    "Gold_rets_std = np.sqrt(Gold_rets_var)\n",
    "Oil_rets_std = np.sqrt(Oil_rets_var)"
   ]
  },
  {
   "cell_type": "code",
   "execution_count": 45,
   "metadata": {},
   "outputs": [
    {
     "name": "stdout",
     "output_type": "stream",
     "text": [
      "The Gold returns Standard deviation is: 0.008297384755484373\n",
      "The Crude Oil returns Standard deviation is: 0.029615827340980293\n"
     ]
    }
   ],
   "source": [
    "print('The Gold returns Standard deviation is:',Gold_rets_std)\n",
    "print('The Crude Oil returns Standard deviation is:',Oil_rets_std)"
   ]
  },
  {
   "cell_type": "markdown",
   "metadata": {},
   "source": [
    "### c) Covariance and Correlation"
   ]
  },
  {
   "cell_type": "markdown",
   "metadata": {},
   "source": [
    "The covariance between two variables tells if large values in one variable are associated with large values in the other and, conversely, if small values in one variable are associated with small values in the other.\n",
    "\n",
    "A **positive covariance** means the the 2 variables varies in the same direction: large values of a variable are associated with large values of the other and small values of a variable are associated with small values of the other;\n",
    "\n",
    "A **negative covariance** means that large values of a variable are associated with small values of the other;\n",
    "\n",
    "A **covariance close to 0** means that there is no linear relationship between the variables. "
   ]
  },
  {
   "cell_type": "code",
   "execution_count": 50,
   "metadata": {},
   "outputs": [
    {
     "data": {
      "text/plain": [
       "<matplotlib.collections.PathCollection at 0x1e8372346c8>"
      ]
     },
     "execution_count": 50,
     "metadata": {},
     "output_type": "execute_result"
    },
    {
     "data": {
      "image/png": "[encoded data removed]",
      "text/plain": [
       "<Figure size 432x288 with 1 Axes>"
      ]
     },
     "metadata": {
      "needs_background": "light"
     },
     "output_type": "display_data"
    }
   ],
   "source": [
    "plt.scatter(data['Gold_rets'],data['Crude_Oil_rets'],alpha=0.5)"
   ]
  },
  {
   "cell_type": "markdown",
   "metadata": {},
   "source": [
    "Visually we can see that doesn't exist a linear relationship between the returns of Gold and Crude Oil."
   ]
  },
  {
   "cell_type": "code",
   "execution_count": 53,
   "metadata": {},
   "outputs": [
    {
     "name": "stdout",
     "output_type": "stream",
     "text": [
      "The covariance between Gold and Oil returns is: [[6.89056389e-05 2.05115092e-06]\n",
      " [2.05115092e-06 8.77849457e-04]]\n"
     ]
    }
   ],
   "source": [
    "print('The covariance between Gold and Oil returns is:',np.cov(data['Gold_rets'],data['Crude_Oil_rets']))"
   ]
  },
  {
   "cell_type": "markdown",
   "metadata": {},
   "source": [
    "The functon *np.cov()* returns a *covriance matrix*. The covariance is the value outside of the diagonal: 2.05115092e-06 so approximate 0. On the diagonal of the matrix there is the variance of the variables."
   ]
  },
  {
   "cell_type": "markdown",
   "metadata": {},
   "source": [
    "The *correlation* is anormalized version of the covarance. It is scaled between 1 and -1."
   ]
  },
  {
   "cell_type": "code",
   "execution_count": 55,
   "metadata": {},
   "outputs": [
    {
     "name": "stdout",
     "output_type": "stream",
     "text": [
      "The correlation between Gold and Oil returns is: [[1.         0.00833989]\n",
      " [0.00833989 1.        ]]\n"
     ]
    }
   ],
   "source": [
    "print('The correlation between Gold and Oil returns is:',np.corrcoef(data['Gold_rets'],data['Crude_Oil_rets']))"
   ]
  },
  {
   "cell_type": "markdown",
   "metadata": {},
   "source": [
    "## Random Variables"
   ]
  },
  {
   "cell_type": "markdown",
   "metadata": {},
   "source": [
    "### a) Definitions\n",
    "\n",
    "- A *random experiment* is a process the give you uncertain results.(for instance: coin flip)\n",
    "\n",
    "- The *outcome* of random experiment is the result you obtain from the experiment. (for instance: 'Head' or 'Tail' in a flip a coin)\n",
    "\n",
    "- The *Sample* is a set of all possible outcomes. (for instance: if you flip a coin 2 times, the sample space is {heads-heads, heads-tails,tails-heads,tails-tails})\n",
    "\n",
    "- An *event* is a set of outcomes, a subset of the sample space. Intuitively, it corresponds to a question you can ask about the outcome of a random experiment. (for instance if you roll a dice, you can ask: is the outcome in the set {1,3,6}?)\n",
    "\n",
    "- The *probability* associated with an event tells you how likely it is to occur.\n",
    "\n",
    "- A *probability distribution function (PDF)* is a function that maps each outcome to its probability mass (for discrete variables) or to probablty density (for continuous variable) to occur.\n",
    "\n",
    "- The probability that a random variable $X$ takes the value $x$ is denoted as $P(X=x)$"
   ]
  },
  {
   "cell_type": "markdown",
   "metadata": {},
   "source": [
    "### b) Probability Distributions"
   ]
  },
  {
   "cell_type": "markdown",
   "metadata": {},
   "source": [
    "#### - Probability Mass Functions"
   ]
  },
  {
   "cell_type": "markdown",
   "metadata": {},
   "source": [
    "*Probabiliy mass functions (PMF)* are probability functions of discrete random variables. For instance, in a running a dice-rolling experiment, if you run the experiment a large number of times, you will get each outcome approximately the same number of times. The probability mass function describing X returns $1/6$ for each possible outcome and 0 otherwise:\n",
    "\n",
    "You can write $P(X=1)=1/6, P(X=2)=1/6$, and so on.\n",
    "\n",
    "Not every function can be considered as a PMF, 2 conditions are needed:\n",
    "\n",
    "- $0\\le P(x)\\le1$\n",
    "- $\\sum P(x) = 1$"
   ]
  },
  {
   "cell_type": "code",
   "execution_count": 100,
   "metadata": {},
   "outputs": [
    {
     "data": {
      "text/plain": [
       "array([4, 1, 5, 1, 5, 5, 5, 1, 3, 6, 4, 4, 5, 6, 2, 4, 4, 3, 6, 4])"
      ]
     },
     "execution_count": 100,
     "metadata": {},
     "output_type": "execute_result"
    }
   ],
   "source": [
    "# Experiment to roll the dice 20 times\n",
    "rolls = np.random.randint(1,7,20)\n",
    "rolls"
   ]
  },
  {
   "cell_type": "markdown",
   "metadata": {},
   "source": [
    "Assuming the die is fair, you should have an *uniform distribution*"
   ]
  },
  {
   "cell_type": "code",
   "execution_count": 101,
   "metadata": {},
   "outputs": [],
   "source": [
    "val, counts = np.unique(rolls,return_counts=True)"
   ]
  },
  {
   "cell_type": "code",
   "execution_count": 102,
   "metadata": {},
   "outputs": [
    {
     "data": {
      "image/png": "[encoded data removed]",
      "text/plain": [
       "<Figure size 432x288 with 1 Axes>"
      ]
     },
     "metadata": {
      "needs_background": "light"
     },
     "output_type": "display_data"
    }
   ],
   "source": [
    "plt.stem(val,counts/len(rolls),basefmt='C2-',use_line_collection=True);"
   ]
  },
  {
   "cell_type": "markdown",
   "metadata": {},
   "source": [
    "As you can see from the plot if we roll the dice only 20 times the distribution is not uniform.\n",
    "\n",
    "Now we try to roll the dice 100000 times"
   ]
  },
  {
   "cell_type": "code",
   "execution_count": 107,
   "metadata": {},
   "outputs": [
    {
     "data": {
      "image/png": "[encoded data removed]",
      "text/plain": [
       "<Figure size 432x288 with 1 Axes>"
      ]
     },
     "metadata": {
      "needs_background": "light"
     },
     "output_type": "display_data"
    }
   ],
   "source": [
    "rolls = np.random.randint(1,7,100000)\n",
    "val, counts = np.unique(rolls,return_counts=True)\n",
    "plt.stem(val,counts/len(rolls),basefmt='C2-',use_line_collection=True);"
   ]
  },
  {
   "cell_type": "markdown",
   "metadata": {},
   "source": [
    "With enough trials, the PMF looks uniform"
   ]
  },
  {
   "cell_type": "markdown",
   "metadata": {},
   "source": [
    "#### - Probability Density Functions\n",
    "\n",
    "With continuous variables, there is an infinite number of possible outcomes. So the probability of getting a specific point in the distribution is zero.\n",
    "\n",
    "It is better to consider the probability of getting a specific nummber within a range of values. They-axis of probability density function is not a probability. \n",
    "\n",
    "The integral of the probability density function over a particular interval gives the probability that a random variable take a value in this interval. This probability is thus given by the area under the curve in this interval.\n",
    "\n",
    "denotation of probability density function: $p(x)$"
   ]
  },
  {
   "cell_type": "code",
   "execution_count": 123,
   "metadata": {},
   "outputs": [],
   "source": [
    "random_cont = np.random.normal(0.5,0.1,1000)"
   ]
  },
  {
   "cell_type": "code",
   "execution_count": 130,
   "metadata": {},
   "outputs": [
    {
     "data": {
      "image/png": "[encoded data removed]",
      "text/plain": [
       "<Figure size 432x288 with 1 Axes>"
      ]
     },
     "metadata": {
      "needs_background": "light"
     },
     "output_type": "display_data"
    }
   ],
   "source": [
    "hist = plt.hist(random_cont,bins=20,range=(0,1))"
   ]
  },
  {
   "cell_type": "code",
   "execution_count": 131,
   "metadata": {},
   "outputs": [
    {
     "data": {
      "image/png": "[encoded data removed]",
      "text/plain": [
       "<Figure size 432x288 with 1 Axes>"
      ]
     },
     "metadata": {
      "needs_background": "light"
     },
     "output_type": "display_data"
    }
   ],
   "source": [
    "hist = plt.hist(random_cont,bins=20,range=(0,1),density=True)\n",
    "# Parameter density make the y-axis correspond to the probability density instead of the count of values in each bin"
   ]
  },
  {
   "cell_type": "markdown",
   "metadata": {},
   "source": [
    "To calculate the probability to have a value in a certain range from the density, you need to use the area under the curve or bars in the case of histogram.\n",
    "\n",
    "For Instance, we take the range 0.4 to 0.45"
   ]
  },
  {
   "cell_type": "code",
   "execution_count": 144,
   "metadata": {},
   "outputs": [
    {
     "name": "stdout",
     "output_type": "stream",
     "text": [
      "Range x: from 0.4 to 0.45\n"
     ]
    }
   ],
   "source": [
    "print(f'Range x: from {hist[1][8]} to {hist[1][9]}')"
   ]
  },
  {
   "cell_type": "code",
   "execution_count": 143,
   "metadata": {},
   "outputs": [
    {
     "name": "stdout",
     "output_type": "stream",
     "text": [
      "Density:2.8\n"
     ]
    }
   ],
   "source": [
    "print(f'Density:{round(hist[0][8],4)}')"
   ]
  },
  {
   "cell_type": "markdown",
   "metadata": {},
   "source": [
    "Since there are 20 bins and the range of possible outcomes is from 0 to 1, each bar correspond to a range of $\\frac{1-0}{20}=0.05$ ; the density from 0.4 to 0.45 is 2.8, so the area of this bar is $2.8 \\cdot 0.05 = 0.14$ so the probability is 14%.\n",
    "\n",
    "The sum of the probabilities must be = 1"
   ]
  },
  {
   "cell_type": "code",
   "execution_count": 148,
   "metadata": {},
   "outputs": [
    {
     "data": {
      "text/plain": [
       "1.0"
      ]
     },
     "execution_count": 148,
     "metadata": {},
     "output_type": "execute_result"
    }
   ],
   "source": [
    "sum(hist[0]*0.05)"
   ]
  },
  {
   "cell_type": "markdown",
   "metadata": {},
   "source": [
    "Histograms represent a binned version of the probability density function.\n",
    "\n",
    "Regierement of PDF:\n",
    "\n",
    "- $p(x)\\geq 0$\n",
    "- $\\int_{-\\infty}^\\infty p(x) \\,dx = 1$\n",
    "\n",
    "**Keep in mind that the value on the y axis of PMF are probabilities, which is not the case for PDF.**"
   ]
  },
  {
   "cell_type": "markdown",
   "metadata": {},
   "source": [
    "### c) Joint, Marginal, and Conditional Probability"
   ]
  },
  {
   "cell_type": "markdown",
   "metadata": {},
   "source": [
    "#### - Joint Probability\n",
    "\n",
    "*Joint probability* is the probablity that 2 or more events occur.\n",
    "\n",
    "$$P(X=x,Y=y)$$\n",
    "\n",
    "You must consider the dependence between these events.\n",
    "\n",
    "**Dependent events** are events that are related in the sense that the probability of one depends on the outcome of the other. For instance, if you randomly pick 2 balls from a bag without replacement, the probabilities associated with the second pick depend on the outcome of the first pick.\n",
    "\n",
    "**Independent events** are events that don't interfere with each other. For istance, if you roll 2 dice, you don't expect that the outcome of one will affect the outcome of the other.\n",
    "\n",
    "The joint probability of two independent events is equal to the product of the product of the probability of eache event.\n",
    "\n",
    "$$P(X=x,Y=y)=P(X=x)P(Y=y)$$\n",
    "\n",
    "For two dependent events the joint probability is:\n",
    "\n",
    "$$P(X=x,Y=y)=P(Y=y|X=x)P(X=x)$$\n",
    "\n"
   ]
  },
  {
   "cell_type": "markdown",
   "metadata": {},
   "source": [
    "#### - Marginal Probability\n",
    "\n",
    "In some cases, you'll have the joint probability of multiple events and you'll want to calculate the probability of one of the events individually, without considering the others. Such probabilities are called *marginal probabilities*.\n",
    "\n",
    "**The sum rule:** Marginal probabilities are obtained adding joint probabilities:\n",
    "\n",
    "$$P(X=x)=\\sum_y P(X=x,Y=y)$$\n",
    "\n",
    "For instance take the experiment of roll a dice and flip a coin. The marginal probability of X=6 is the sum of the following joint probabilities: $P(X=6,Y='heads')=\\frac{1}{6} \\cdot \\frac{1}{2}= \\frac{1}{12}$ and $P(X=6,Y='tails')=\\frac{1}{6} \\cdot \\frac{1}{2}= \\frac{1}{12}$.\n",
    "\n",
    "$$\\frac{1}{12} + \\frac{1}{12}  = \\frac{1}{6}$$\n",
    "\n",
    "**Marginal Probability Density Functions:** In the case of continuous variables, you calculate the marginal probabilities by integrating the joint probability distribution with respet to one of the variables. To find the marginal probability density of Y, you'll need to integrate with respect to X, meaning that you consider Y as a constant. Graphically, it corresponds to do slices on the x-axis at different values of Y. The area under the curve of each slice corresponds to a point in the probability density function. If you repeat this for all values of Y, you get the whole probability density distribution: the probability density function of Y is costructed as the areas of the slices.\n",
    "\n",
    "So to go from the joint probability distribution to the marginal probability distribution, you calculate the integral of the joint probability distribution $p(x,y)$ with respect to one of the variable, such as:\n",
    "\n",
    "$$p(y) = \\int p(x,y)dx$$\n",
    "$$p(x) = \\int p(x,y)dy$$"
   ]
  },
  {
   "cell_type": "code",
   "execution_count": 234,
   "metadata": {},
   "outputs": [
    {
     "data": {
      "text/plain": [
       "(100, 100)"
      ]
     },
     "execution_count": 234,
     "metadata": {},
     "output_type": "execute_result"
    }
   ],
   "source": [
    "import math\n",
    "def gaussian(x, mu, sig):\n",
    "    return (1./(sig*(math.sqrt(2*math.pi))))*np.exp(-np.power(x - mu, 2.) / (2 * np.power(sig, 2.)))\n",
    "\n",
    "x,y= np.mgrid[0:1:0.01,0:1:0.01]\n",
    "xy= np.column_stack([x.flat,y.flat])\n",
    "\n",
    "z = gaussian(xy[:,0],0.4,0.1) * gaussian(xy[:,1],0.6,0.05) \n",
    "z = z.reshape(x.shape)\n",
    "\n",
    "z.shape"
   ]
  },
  {
   "cell_type": "code",
   "execution_count": 235,
   "metadata": {},
   "outputs": [
    {
     "data": {
      "image/png": "[encoded data removed]",
      "text/plain": [
       "<Figure size 432x288 with 1 Axes>"
      ]
     },
     "metadata": {
      "needs_background": "light"
     },
     "output_type": "display_data"
    }
   ],
   "source": [
    "plt.plot(z);"
   ]
  },
  {
   "cell_type": "markdown",
   "metadata": {},
   "source": [
    "You can extract slices from z with for instance z[:0], which is the first slice, corresponding to Y=0. Slices are separated by 0.01."
   ]
  },
  {
   "cell_type": "code",
   "execution_count": 236,
   "metadata": {},
   "outputs": [
    {
     "data": {
      "text/plain": [
       "[<matplotlib.lines.Line2D at 0x1e843129948>]"
      ]
     },
     "execution_count": 236,
     "metadata": {},
     "output_type": "execute_result"
    },
    {
     "data": {
      "image/png": "[encoded data removed]",
      "text/plain": [
       "<Figure size 432x288 with 1 Axes>"
      ]
     },
     "metadata": {
      "needs_background": "light"
     },
     "output_type": "display_data"
    }
   ],
   "source": [
    "x_axis = np.linspace(0,1,z.shape[0])\n",
    "plt.plot(x_axis,z[:,0])"
   ]
  },
  {
   "cell_type": "markdown",
   "metadata": {},
   "source": [
    "We can calculate the area under the curve. This value is the area under the curve of the first slice"
   ]
  },
  {
   "cell_type": "code",
   "execution_count": 237,
   "metadata": {},
   "outputs": [
    {
     "data": {
      "text/plain": [
       "4.292658322616401e-31"
      ]
     },
     "execution_count": 237,
     "metadata": {},
     "output_type": "execute_result"
    }
   ],
   "source": [
    "(z[:,0]*0.01).sum()"
   ]
  },
  {
   "cell_type": "markdown",
   "metadata": {},
   "source": [
    "This value is the area under the curve of first slice\n",
    "\n",
    "Now let's do this for every slice"
   ]
  },
  {
   "cell_type": "code",
   "execution_count": 238,
   "metadata": {},
   "outputs": [],
   "source": [
    "estimated_probability_density = np.zeros(x_axis.shape[0])\n",
    "\n",
    "for i in range(z.shape[1]):\n",
    "    slice_area = (z[:,i]*0.01).sum()\n",
    "    estimated_probability_density[i] = slice_area"
   ]
  },
  {
   "cell_type": "markdown",
   "metadata": {},
   "source": [
    "Let's compare what you obtain with the true density distribution that you got as *density_y*"
   ]
  },
  {
   "cell_type": "code",
   "execution_count": 244,
   "metadata": {},
   "outputs": [
    {
     "data": {
      "text/plain": [
       "[<matplotlib.lines.Line2D at 0x1e8433e4088>]"
      ]
     },
     "execution_count": 244,
     "metadata": {},
     "output_type": "execute_result"
    },
    {
     "data": {
      "image/png": "[encoded data removed]",
      "text/plain": [
       "<Figure size 432x288 with 1 Axes>"
      ]
     },
     "metadata": {
      "needs_background": "light"
     },
     "output_type": "display_data"
    }
   ],
   "source": [
    "density_y = gaussian(x_axis,0.6,0.05)\n",
    "\n",
    "plt.plot(x_axis,estimated_probability_density,label='Estimated')\n",
    "plt.plot(x_axis,density_y,linestyle=':',label='True')"
   ]
  },
  {
   "cell_type": "markdown",
   "metadata": {},
   "source": [
    "**You can see that these two density functions are quite identical, showing that the marginal probability density function can be obtained from the joint probability distribution.**"
   ]
  },
  {
   "cell_type": "markdown",
   "metadata": {},
   "source": [
    "#### - Conditional Probability\n",
    "\n",
    "*Conditional probability* is the probality of an event given that another event has occurred.\n",
    "\n",
    "$$P(Y=y|X=x)$$\n",
    "\n",
    "**The Product Rule of Probability:** $$P(X=x,Y=y)=P(Y=y|X=x)P(X=x)$$\n",
    "\n",
    "$$P(Y=y|X=x)= \\frac{P(X=x,Y=y)}{P(X=x)}$$\n",
    "\n",
    "**More Events:** $$P(A,B,C)=P(A|B,C)P(B|C)P(C)$$"
   ]
  },
  {
   "cell_type": "markdown",
   "metadata": {},
   "source": [
    "### d) Cumulative Distribution Functions\n",
    "\n",
    "*Cumulative distribution functions* (CDF) correspond to the probability that a random variable will take a value less than or equal to the value x.\n",
    "$$F_X(x) = P(X\\leq x)$$\n",
    "\n",
    "Cumulative distribution functions are always non-decreasing going from 0 to 1."
   ]
  },
  {
   "cell_type": "code",
   "execution_count": 258,
   "metadata": {},
   "outputs": [
    {
     "data": {
      "image/png": "[encoded data removed]",
      "text/plain": [
       "<Figure size 432x288 with 1 Axes>"
      ]
     },
     "metadata": {
      "needs_background": "light"
     },
     "output_type": "display_data"
    }
   ],
   "source": [
    "random_cont = np.random.normal(0.5,0.1,1000)\n",
    "hist = plt.hist(random_cont,bins=20,range=(0,1),density=True)\n",
    "plt.title('PDF');"
   ]
  },
  {
   "cell_type": "code",
   "execution_count": 303,
   "metadata": {},
   "outputs": [
    {
     "data": {
      "image/png": "[encoded data removed]",
      "text/plain": [
       "<Figure size 432x288 with 1 Axes>"
      ]
     },
     "metadata": {
      "needs_background": "light"
     },
     "output_type": "display_data"
    }
   ],
   "source": [
    "plt.plot(hist[1][1:],(hist[0]/20).cumsum())\n",
    "plt.title('CDF');"
   ]
  },
  {
   "cell_type": "markdown",
   "metadata": {},
   "source": [
    "### e) Expectaton and Variance of Random Variables"
   ]
  },
  {
   "cell_type": "markdown",
   "metadata": {},
   "source": [
    "#### - Expected Value\n",
    "\n",
    "*Expected value* of a random variable is the average value you'll get when you consider a large number of trials.\n",
    "\n",
    "**Discret random variables:** $E[X]=\\sum_{i=1}^{n}P(x_i)x_i$\n",
    "\n",
    "**Continuous Random Variables:** $E[X]=\\int p(x)x dx$"
   ]
  },
  {
   "cell_type": "markdown",
   "metadata": {},
   "source": [
    "##### - Variance of Random Variables\n",
    "\n",
    "The *Variance* of a random variable is a metric describing the spread of the possible outcomes of the variable.\n",
    "\n",
    "$Var(X)= E[(X-E[X])^2]$"
   ]
  },
  {
   "cell_type": "code",
   "execution_count": null,
   "metadata": {},
   "outputs": [],
   "source": []
  }
 ],
 "metadata": {
  "kernelspec": {
   "display_name": "Python 3",
   "language": "python",
   "name": "python3"
  },
  "language_info": {
   "codemirror_mode": {
    "name": "ipython",
    "version": 3
   },
   "file_extension": ".py",
   "mimetype": "text/x-python",
   "name": "python",
   "nbconvert_exporter": "python",
   "pygments_lexer": "ipython3",
   "version": "3.7.6"
  }
 },
 "nbformat": 4,
 "nbformat_minor": 4
}
