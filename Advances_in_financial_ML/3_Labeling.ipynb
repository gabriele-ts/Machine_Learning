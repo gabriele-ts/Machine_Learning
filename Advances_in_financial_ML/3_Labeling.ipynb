{
 "cells": [
  {
   "cell_type": "markdown",
   "metadata": {},
   "source": [
    "# <font color=red>Chapter 3. Labeling</font>"
   ]
  },
  {
   "cell_type": "markdown",
   "metadata": {},
   "source": [
    "## Exercises"
   ]
  },
  {
   "cell_type": "markdown",
   "metadata": {},
   "source": [
    "**3.1** From dollar bars for MFIB future:\n",
    "\n",
    "> **a)** Apply a symmetric CUMSUM filter where the threshold is the standard deviation of daily returns (snippet 3.1)\n",
    "\n",
    "> **b)** Use Snippet 3.4 on pandas series *t1*, where *numDays* = 1\n",
    "\n",
    "> **c)** On those sampled features, apply the triple-barrier method, where *ptSl*= [1,1] and *t1* is the series you created in point 1.b\n",
    "\n",
    "> **d)** Apply *getBins* to generate the labels."
   ]
  },
  {
   "cell_type": "markdown",
   "metadata": {},
   "source": [
    "## a)"
   ]
  },
  {
   "cell_type": "code",
   "execution_count": 1,
   "metadata": {},
   "outputs": [],
   "source": [
    "import numpy as np\n",
    "import pandas as pd\n",
    "import matplotlib.pyplot as plt\n",
    "import ML_Finance as mlf\n",
    "import os\n",
    "%load_ext autoreload\n",
    "%autoreload 2"
   ]
  },
  {
   "cell_type": "code",
   "execution_count": 2,
   "metadata": {},
   "outputs": [],
   "source": [
    "data = os.path.join('..','data','MFIBtick.xlsx')\n",
    "mfib_tick_data = pd.read_excel(data,parse_dates=[['Date','Time']])"
   ]
  },
  {
   "cell_type": "code",
   "execution_count": 3,
   "metadata": {},
   "outputs": [],
   "source": [
    "mfib_tick_data.set_index('Date_Time',inplace=True)"
   ]
  },
  {
   "cell_type": "code",
   "execution_count": 4,
   "metadata": {},
   "outputs": [],
   "source": [
    "dollar_bars = mlf.dollar_bars(mfib_tick_data)"
   ]
  },
  {
   "cell_type": "code",
   "execution_count": 5,
   "metadata": {},
   "outputs": [
    {
     "data": {
      "text/html": [
       "<div>\n",
       "<style scoped>\n",
       "    .dataframe tbody tr th:only-of-type {\n",
       "        vertical-align: middle;\n",
       "    }\n",
       "\n",
       "    .dataframe tbody tr th {\n",
       "        vertical-align: top;\n",
       "    }\n",
       "\n",
       "    .dataframe thead th {\n",
       "        text-align: right;\n",
       "    }\n",
       "</style>\n",
       "<table border=\"1\" class=\"dataframe\">\n",
       "  <thead>\n",
       "    <tr style=\"text-align: right;\">\n",
       "      <th></th>\n",
       "      <th>Open</th>\n",
       "      <th>Close</th>\n",
       "      <th>High</th>\n",
       "      <th>Low</th>\n",
       "      <th>Volume</th>\n",
       "    </tr>\n",
       "    <tr>\n",
       "      <th>Date_Time</th>\n",
       "      <th></th>\n",
       "      <th></th>\n",
       "      <th></th>\n",
       "      <th></th>\n",
       "      <th></th>\n",
       "    </tr>\n",
       "  </thead>\n",
       "  <tbody>\n",
       "    <tr>\n",
       "      <th>2020-11-03 17:32:34</th>\n",
       "      <td>18925</td>\n",
       "      <td>18920</td>\n",
       "      <td>18940</td>\n",
       "      <td>18910</td>\n",
       "      <td>433</td>\n",
       "    </tr>\n",
       "    <tr>\n",
       "      <th>2020-11-03 18:04:14</th>\n",
       "      <td>18925</td>\n",
       "      <td>18910</td>\n",
       "      <td>18965</td>\n",
       "      <td>18910</td>\n",
       "      <td>431</td>\n",
       "    </tr>\n",
       "    <tr>\n",
       "      <th>2020-11-03 20:37:22</th>\n",
       "      <td>18910</td>\n",
       "      <td>18950</td>\n",
       "      <td>18960</td>\n",
       "      <td>18875</td>\n",
       "      <td>431</td>\n",
       "    </tr>\n",
       "    <tr>\n",
       "      <th>2020-11-03 21:34:22</th>\n",
       "      <td>18955</td>\n",
       "      <td>19080</td>\n",
       "      <td>19080</td>\n",
       "      <td>18930</td>\n",
       "      <td>428</td>\n",
       "    </tr>\n",
       "    <tr>\n",
       "      <th>2020-11-03 22:06:17</th>\n",
       "      <td>19080</td>\n",
       "      <td>18924</td>\n",
       "      <td>19100</td>\n",
       "      <td>18924</td>\n",
       "      <td>428</td>\n",
       "    </tr>\n",
       "  </tbody>\n",
       "</table>\n",
       "</div>"
      ],
      "text/plain": [
       "                      Open  Close   High    Low  Volume\n",
       "Date_Time                                              \n",
       "2020-11-03 17:32:34  18925  18920  18940  18910     433\n",
       "2020-11-03 18:04:14  18925  18910  18965  18910     431\n",
       "2020-11-03 20:37:22  18910  18950  18960  18875     431\n",
       "2020-11-03 21:34:22  18955  19080  19080  18930     428\n",
       "2020-11-03 22:06:17  19080  18924  19100  18924     428"
      ]
     },
     "execution_count": 5,
     "metadata": {},
     "output_type": "execute_result"
    }
   ],
   "source": [
    "dollar_bars.tail()"
   ]
  },
  {
   "cell_type": "code",
   "execution_count": 6,
   "metadata": {},
   "outputs": [],
   "source": [
    "# DAILY VOLATILITY ESTIMATE with EWMA\n",
    "'''\n",
    "We estimate volatility through the EWM, calcoliamo anche true volatility che servirà per compararla con quella stimata\n",
    "'''\n",
    "def getDailyVol(close,span0=100):\n",
    "    # daily vol reindexed to close\n",
    "    df0=close.index.searchsorted(close.index-pd.Timedelta(days=1))\n",
    "    #searchsorted: Find indices where elements should be inserted to maintain order.\n",
    "    #(close.index-pd.Timedelta(days=1) rappresenta l'index meno un giorno\n",
    "    df0=df0[df0>0] # parte dal numero 19\n",
    "    #considera solo index > di zero quindi in questo caso parte dal 24 agosto e non considera il 20 e 21\n",
    "    df0=(pd.Series(close.index[df0-1], # riconsidera il 21 ma l'ultimo giorno non lo considera  (ovviamente df0 è composto da numeri es. 19,20,21...)\n",
    "                   index=close.index[close.shape[0]-df0.shape[0]:]))   \n",
    "    try:\n",
    "        returns=close.loc[df0.index]/close.loc[df0.values].values-1 # daily rets tra una barra e quella del giorno prima quindi return di 1 giorno piu o meno\n",
    "    except Exception as e:\n",
    "        print(f'error: {e}\\nplease confirm no duplicate indices')\n",
    "    estimate_vol=returns.ewm(span=span0).std()#.rename('dailyVol')\n",
    "    true_vol = returns.rolling(50).std()\n",
    "    return estimate_vol,true_vol,returns"
   ]
  },
  {
   "cell_type": "code",
   "execution_count": 7,
   "metadata": {},
   "outputs": [],
   "source": [
    "volatilities = pd.DataFrame({'estimate_vol':getDailyVol(dollar_bars.Close,50)[0],'true_vol':getDailyVol(dollar_bars.Close,50)[1]})\n",
    "returns = getDailyVol(dollar_bars.Close,50)[2]"
   ]
  },
  {
   "cell_type": "code",
   "execution_count": 8,
   "metadata": {},
   "outputs": [
    {
     "data": {
      "text/plain": [
       "Date_Time\n",
       "2020-08-24 09:00:41         NaN\n",
       "2020-08-24 09:08:34    0.000717\n",
       "2020-08-24 09:26:08    0.000898\n",
       "2020-08-24 09:45:05    0.002105\n",
       "2020-08-24 10:18:08    0.001816\n",
       "                         ...   \n",
       "2020-11-03 17:32:34    0.017228\n",
       "2020-11-03 18:04:14    0.016934\n",
       "2020-11-03 20:37:22    0.016854\n",
       "2020-11-03 21:34:22    0.017045\n",
       "2020-11-03 22:06:17    0.016773\n",
       "Name: estimate_vol, Length: 1031, dtype: float64"
      ]
     },
     "execution_count": 8,
     "metadata": {},
     "output_type": "execute_result"
    }
   ],
   "source": [
    "volatilities.iloc[:,0]"
   ]
  },
  {
   "cell_type": "code",
   "execution_count": 9,
   "metadata": {},
   "outputs": [
    {
     "data": {
      "text/plain": [
       "Date_Time\n",
       "2020-08-24 09:00:41    0.008867\n",
       "2020-08-24 09:08:34    0.007854\n",
       "2020-08-24 09:26:08    0.009628\n",
       "2020-08-24 09:45:05    0.012668\n",
       "2020-08-24 10:18:08    0.009374\n",
       "                         ...   \n",
       "2020-11-03 17:32:34    0.033597\n",
       "2020-11-03 18:04:14    0.028276\n",
       "2020-11-03 20:37:22    0.036936\n",
       "2020-11-03 21:34:22    0.044049\n",
       "2020-11-03 22:06:17    0.031000\n",
       "Name: Close, Length: 1031, dtype: float64"
      ]
     },
     "execution_count": 9,
     "metadata": {},
     "output_type": "execute_result"
    }
   ],
   "source": [
    "returns"
   ]
  },
  {
   "cell_type": "code",
   "execution_count": 10,
   "metadata": {},
   "outputs": [],
   "source": [
    "df=dollar_bars.Close.index.searchsorted(dollar_bars.Close.index-pd.Timedelta(days=1))"
   ]
  },
  {
   "cell_type": "code",
   "execution_count": 11,
   "metadata": {},
   "outputs": [],
   "source": [
    "df=df[df>0]"
   ]
  },
  {
   "cell_type": "code",
   "execution_count": 12,
   "metadata": {},
   "outputs": [],
   "source": [
    "df = pd.Series(dollar_bars.Close.index[df-1],index=dollar_bars.Close.index[dollar_bars.Close.shape[0]-df.shape[0]:])"
   ]
  },
  {
   "cell_type": "code",
   "execution_count": 13,
   "metadata": {},
   "outputs": [
    {
     "data": {
      "text/plain": [
       "Date_Time\n",
       "2020-08-24 09:00:41   2020-08-21 21:58:12\n",
       "2020-08-24 09:08:34   2020-08-21 21:58:12\n",
       "2020-08-24 09:26:08   2020-08-21 21:58:12\n",
       "2020-08-24 09:45:05   2020-08-21 21:58:12\n",
       "2020-08-24 10:18:08   2020-08-21 21:58:12\n",
       "                              ...        \n",
       "2020-11-03 17:32:34   2020-11-02 17:17:35\n",
       "2020-11-03 18:04:14   2020-11-02 17:57:31\n",
       "2020-11-03 20:37:22   2020-11-02 19:24:13\n",
       "2020-11-03 21:34:22   2020-11-02 19:24:13\n",
       "2020-11-03 22:06:17   2020-11-02 21:55:00\n",
       "Name: Date_Time, Length: 1031, dtype: datetime64[ns]"
      ]
     },
     "execution_count": 13,
     "metadata": {},
     "output_type": "execute_result"
    }
   ],
   "source": [
    "df"
   ]
  },
  {
   "cell_type": "code",
   "execution_count": 14,
   "metadata": {},
   "outputs": [
    {
     "data": {
      "text/plain": [
       "DatetimeIndex(['2020-08-20 09:05:06', '2020-08-20 09:15:41',\n",
       "               '2020-08-20 09:22:46', '2020-08-20 09:43:06',\n",
       "               '2020-08-20 10:22:29', '2020-08-20 11:49:59',\n",
       "               '2020-08-20 12:50:26', '2020-08-20 13:47:21',\n",
       "               '2020-08-20 14:02:58', '2020-08-20 14:19:32',\n",
       "               ...\n",
       "               '2020-11-02 15:59:03', '2020-11-02 16:15:01',\n",
       "               '2020-11-02 16:38:37', '2020-11-02 16:58:08',\n",
       "               '2020-11-02 17:18:23', '2020-11-02 17:32:34',\n",
       "               '2020-11-02 18:04:14', '2020-11-02 20:37:22',\n",
       "               '2020-11-02 21:34:22', '2020-11-02 22:06:17'],\n",
       "              dtype='datetime64[ns]', name='Date_Time', length=1050, freq=None)"
      ]
     },
     "execution_count": 14,
     "metadata": {},
     "output_type": "execute_result"
    }
   ],
   "source": [
    "dollar_bars.Close.index-pd.Timedelta(days=1)"
   ]
  },
  {
   "cell_type": "code",
   "execution_count": 15,
   "metadata": {},
   "outputs": [],
   "source": [
    "rolling_volat = dollar_bars.Close.pct_change().rolling(50).std()"
   ]
  },
  {
   "cell_type": "code",
   "execution_count": 16,
   "metadata": {},
   "outputs": [
    {
     "data": {
      "text/plain": [
       "<matplotlib.lines.Line2D at 0x1b6d599dac8>"
      ]
     },
     "execution_count": 16,
     "metadata": {},
     "output_type": "execute_result"
    },
    {
     "data": {
      "image/png": "[encoded data removed]",
      "text/plain": [
       "<Figure size 432x288 with 1 Axes>"
      ]
     },
     "metadata": {
      "needs_background": "light"
     },
     "output_type": "display_data"
    }
   ],
   "source": [
    "f,ax=plt.subplots()\n",
    "(rolling_volat*np.sqrt(20)).plot(ax=ax)\n",
    "ax.axhline((rolling_volat*np.sqrt(20)).mean(),ls='--',color='r') #moltiplico per sqrt(20) perche ogni giorno è fatto piu o meno di 20 dollars bars"
   ]
  },
  {
   "cell_type": "code",
   "execution_count": 17,
   "metadata": {},
   "outputs": [
    {
     "data": {
      "text/plain": [
       "<matplotlib.axes._subplots.AxesSubplot at 0x1b6ce576ac8>"
      ]
     },
     "execution_count": 17,
     "metadata": {},
     "output_type": "execute_result"
    },
    {
     "data": {
      "image/png": "[encoded data removed]",
      "text/plain": [
       "<Figure size 432x288 with 1 Axes>"
      ]
     },
     "metadata": {
      "needs_background": "light"
     },
     "output_type": "display_data"
    }
   ],
   "source": [
    "dollar_bars['Close'].plot()"
   ]
  },
  {
   "cell_type": "code",
   "execution_count": 18,
   "metadata": {},
   "outputs": [],
   "source": [
    "# CUMSUM filter with daily volatility estimate as threshold\n",
    "def getTEvents(gRaw, h):\n",
    "    tEvents, sPos, sNeg = [], 0, 0\n",
    "    for i in gRaw.index[1:]:\n",
    "        try:\n",
    "            pos, neg = float(sPos+gRaw.loc[i]), float(sNeg+gRaw.loc[i])\n",
    "        except Exception as e:\n",
    "            print(e)\n",
    "            print(sPos+gRaw.loc[i], type(sPos+gRaw.loc[i]))\n",
    "            print(sNeg+gRaw.loc[i], type(sNeg+gRaw.loc[i]))\n",
    "            break\n",
    "        sPos, sNeg=max(0., pos), min(0., neg)\n",
    "        if sNeg<-h:\n",
    "            sNeg=0;tEvents.append(i)\n",
    "        elif sPos>h:\n",
    "            sPos=0;tEvents.append(i)\n",
    "        else:\n",
    "            sPos=0\n",
    "            sNeg=0\n",
    "    return pd.DatetimeIndex(tEvents)"
   ]
  },
  {
   "cell_type": "code",
   "execution_count": 19,
   "metadata": {},
   "outputs": [],
   "source": [
    "tEvents = getTEvents(volatilities.true_vol,volatilities.estimate_vol.mean())"
   ]
  },
  {
   "cell_type": "code",
   "execution_count": 20,
   "metadata": {},
   "outputs": [
    {
     "data": {
      "text/plain": [
       "DatetimeIndex(['2020-08-27 11:13:35', '2020-08-27 12:00:59',\n",
       "               '2020-08-27 13:14:25', '2020-08-27 15:08:55',\n",
       "               '2020-08-27 15:26:57', '2020-08-27 15:52:10',\n",
       "               '2020-08-27 16:13:40', '2020-08-27 16:36:57',\n",
       "               '2020-08-27 17:08:11', '2020-08-27 17:30:06',\n",
       "               ...\n",
       "               '2020-11-03 15:59:03', '2020-11-03 16:15:01',\n",
       "               '2020-11-03 16:38:37', '2020-11-03 16:58:08',\n",
       "               '2020-11-03 17:18:23', '2020-11-03 17:32:34',\n",
       "               '2020-11-03 18:04:14', '2020-11-03 20:37:22',\n",
       "               '2020-11-03 21:34:22', '2020-11-03 22:06:17'],\n",
       "              dtype='datetime64[ns]', length=442, freq=None)"
      ]
     },
     "execution_count": 20,
     "metadata": {},
     "output_type": "execute_result"
    }
   ],
   "source": [
    "tEvents"
   ]
  },
  {
   "cell_type": "markdown",
   "metadata": {},
   "source": [
    "## b)"
   ]
  },
  {
   "cell_type": "code",
   "execution_count": 21,
   "metadata": {},
   "outputs": [],
   "source": [
    "#vertical barrier of 1 day\n",
    "# dopo la nostra entrata in tEvents(in questo caso è la bara in cui daly volat > volatilità media)\n",
    "# creiamo una uscita il giorno seguente\n",
    "#ci dà 2 serie una con l'apertura e l'altra con la chiusura il gorno seguento\n",
    "\n",
    "def addVerticalBarrier(tEvents, close, numDays=1):\n",
    "    t1=close.index.searchsorted(tEvents+pd.Timedelta(days=numDays))\n",
    "    t1=t1[t1<close.shape[0]]\n",
    "    t1=(pd.Series(close.index[t1],index=tEvents[:t1.shape[0]]))\n",
    "    return t1\n",
    "\n",
    "t1 = addVerticalBarrier(tEvents,dollar_bars.Close,numDays=1)"
   ]
  },
  {
   "cell_type": "code",
   "execution_count": 22,
   "metadata": {},
   "outputs": [
    {
     "data": {
      "text/plain": [
       "2020-08-27 11:13:35   2020-08-28 11:44:07\n",
       "2020-08-27 12:00:59   2020-08-28 12:19:43\n",
       "2020-08-27 13:14:25   2020-08-28 14:10:49\n",
       "2020-08-27 15:08:55   2020-08-28 15:35:56\n",
       "2020-08-27 15:26:57   2020-08-28 15:35:56\n",
       "                              ...        \n",
       "2020-11-02 17:17:35   2020-11-03 17:18:23\n",
       "2020-11-02 17:34:52   2020-11-03 18:04:14\n",
       "2020-11-02 17:57:31   2020-11-03 18:04:14\n",
       "2020-11-02 19:24:13   2020-11-03 20:37:22\n",
       "2020-11-02 21:55:00   2020-11-03 22:06:17\n",
       "Name: Date_Time, Length: 417, dtype: datetime64[ns]"
      ]
     },
     "execution_count": 22,
     "metadata": {},
     "output_type": "execute_result"
    }
   ],
   "source": [
    "t1"
   ]
  },
  {
   "cell_type": "markdown",
   "metadata": {},
   "source": [
    "## c)"
   ]
  },
  {
   "cell_type": "code",
   "execution_count": 23,
   "metadata": {},
   "outputs": [],
   "source": [
    "def apply_ptslt1(close, events, ptsl):\n",
    "    \"\"\"Apply stop loss/profit taking, if it takes place before t1 (end of event)\"\"\"\n",
    "    # Sample a subset with specific indices\n",
    "    _events = events\n",
    "    # Time limit\n",
    "    \n",
    "    out = _events[['t1']].copy(deep=True)\n",
    "    # Set Profit Taking and Stop Loss\n",
    "    if ptsl[0] > 0:\n",
    "        pt = ptsl[0] *  _events[\"trgt\"]\n",
    "    else:\n",
    "        # Switch off profit taking\n",
    "        pt = pd.Series(index=_events.index) #NaNs\n",
    "    if ptsl[1] > 0:\n",
    "        sl = -ptsl[1] * _events[\"trgt\"]\n",
    "    else:\n",
    "        # Switch off stop loss\n",
    "        sl = pd.Series(index=_events.index) # NaNs\n",
    "    for loc, t1 in _events['t1'].fillna(close.index[-1]).iteritems(): #fill Na with the last date\n",
    "        df0 = close[loc:t1] # riporto close per ogni barra t1 \n",
    "        # Change the direction depending on the side\n",
    "        df0 = (df0 / close[loc] - 1) #* _events.at[loc, 'side'] # return tra giorno di apertura posizione (loc) \n",
    "        #e il giorno dopo (che è la barra verticale). \n",
    "        #Quindi questo è il return in caso non viene colpito ne stop loss ne take profit.\n",
    "        #per ora non moltiplichiamo la side cioè long or short\n",
    "        out.loc[loc, 'sl'] = df0[df0 < sl[loc]].index.min() #earliest stop loss\n",
    "        out.loc[loc, 'pt'] = df0[df0 > pt[loc]].index.min() #earliest profit taking\n",
    "    return out"
   ]
  },
  {
   "cell_type": "code",
   "execution_count": 24,
   "metadata": {},
   "outputs": [],
   "source": [
    "volatilities['trgt_return']=0.01 #scelgo target return da considerare per lo stop loss e take profit (se return una volta aperta la posizione è >1% o <-1% chiudo la posizione)\n",
    "# dovrei vedere meglio il calcolo dei returns: dovrei usare log returns e chiudere la posizione quando la somma del return dal momento dell'apertura supera 1% o va al di sotto -1%\n",
    "trgt = volatilities['trgt_return'].loc[tEvents] #selezione i target returns nella barra in cui volatilità effettiva è > volatilità stimata media\n",
    "t1= t1.reindex(tEvents)# per ogni giorno che si verifica volatilità effettiva > della stimata media inseriamo la barriera verticale il giorno dopo\n",
    "events = pd.concat({'t1':t1,'trgt':trgt},axis=1)"
   ]
  },
  {
   "cell_type": "code",
   "execution_count": 25,
   "metadata": {},
   "outputs": [
    {
     "data": {
      "text/plain": [
       "2020-08-27 11:13:35    0.01\n",
       "2020-08-27 12:00:59    0.01\n",
       "2020-08-27 13:14:25    0.01\n",
       "2020-08-27 15:08:55    0.01\n",
       "2020-08-27 15:26:57    0.01\n",
       "Name: trgt, dtype: float64"
      ]
     },
     "execution_count": 25,
     "metadata": {},
     "output_type": "execute_result"
    }
   ],
   "source": [
    "events['trgt'].head()"
   ]
  },
  {
   "cell_type": "code",
   "execution_count": 26,
   "metadata": {},
   "outputs": [
    {
     "data": {
      "text/plain": [
       "2020-08-27 11:13:35   2020-08-28 11:44:07\n",
       "2020-08-27 12:00:59   2020-08-28 12:19:43\n",
       "2020-08-27 13:14:25   2020-08-28 14:10:49\n",
       "2020-08-27 15:08:55   2020-08-28 15:35:56\n",
       "2020-08-27 15:26:57   2020-08-28 15:35:56\n",
       "                              ...        \n",
       "2020-11-03 17:32:34                   NaT\n",
       "2020-11-03 18:04:14                   NaT\n",
       "2020-11-03 20:37:22                   NaT\n",
       "2020-11-03 21:34:22                   NaT\n",
       "2020-11-03 22:06:17                   NaT\n",
       "Name: Date_Time, Length: 442, dtype: datetime64[ns]"
      ]
     },
     "execution_count": 26,
     "metadata": {},
     "output_type": "execute_result"
    }
   ],
   "source": [
    "t1"
   ]
  },
  {
   "cell_type": "code",
   "execution_count": 79,
   "metadata": {},
   "outputs": [],
   "source": [
    "ptsl = [1,1]\n",
    "eventi=apply_ptslt1(dollar_bars.Close,events,ptsl)"
   ]
  },
  {
   "cell_type": "code",
   "execution_count": 80,
   "metadata": {},
   "outputs": [],
   "source": [
    "#forse devo mettere return minimo 0.1 per calcolare take profit"
   ]
  },
  {
   "cell_type": "code",
   "execution_count": 81,
   "metadata": {},
   "outputs": [
    {
     "data": {
      "text/html": [
       "<div>\n",
       "<style scoped>\n",
       "    .dataframe tbody tr th:only-of-type {\n",
       "        vertical-align: middle;\n",
       "    }\n",
       "\n",
       "    .dataframe tbody tr th {\n",
       "        vertical-align: top;\n",
       "    }\n",
       "\n",
       "    .dataframe thead th {\n",
       "        text-align: right;\n",
       "    }\n",
       "</style>\n",
       "<table border=\"1\" class=\"dataframe\">\n",
       "  <thead>\n",
       "    <tr style=\"text-align: right;\">\n",
       "      <th></th>\n",
       "      <th>t1</th>\n",
       "      <th>sl</th>\n",
       "      <th>pt</th>\n",
       "    </tr>\n",
       "  </thead>\n",
       "  <tbody>\n",
       "    <tr>\n",
       "      <th>2020-08-27 11:13:35</th>\n",
       "      <td>2020-08-28 11:44:07</td>\n",
       "      <td>2020-08-28 09:32:54</td>\n",
       "      <td>NaT</td>\n",
       "    </tr>\n",
       "    <tr>\n",
       "      <th>2020-08-27 12:00:59</th>\n",
       "      <td>2020-08-28 12:19:43</td>\n",
       "      <td>2020-08-28 09:32:54</td>\n",
       "      <td>NaT</td>\n",
       "    </tr>\n",
       "    <tr>\n",
       "      <th>2020-08-27 13:14:25</th>\n",
       "      <td>2020-08-28 14:10:49</td>\n",
       "      <td>2020-08-28 09:23:31</td>\n",
       "      <td>NaT</td>\n",
       "    </tr>\n",
       "    <tr>\n",
       "      <th>2020-08-27 15:08:55</th>\n",
       "      <td>2020-08-28 15:35:56</td>\n",
       "      <td>2020-08-28 09:23:31</td>\n",
       "      <td>NaT</td>\n",
       "    </tr>\n",
       "    <tr>\n",
       "      <th>2020-08-27 15:26:57</th>\n",
       "      <td>2020-08-28 15:35:56</td>\n",
       "      <td>2020-08-27 18:20:21</td>\n",
       "      <td>NaT</td>\n",
       "    </tr>\n",
       "    <tr>\n",
       "      <th>...</th>\n",
       "      <td>...</td>\n",
       "      <td>...</td>\n",
       "      <td>...</td>\n",
       "    </tr>\n",
       "    <tr>\n",
       "      <th>2020-11-03 17:32:34</th>\n",
       "      <td>NaT</td>\n",
       "      <td>NaT</td>\n",
       "      <td>NaT</td>\n",
       "    </tr>\n",
       "    <tr>\n",
       "      <th>2020-11-03 18:04:14</th>\n",
       "      <td>NaT</td>\n",
       "      <td>NaT</td>\n",
       "      <td>NaT</td>\n",
       "    </tr>\n",
       "    <tr>\n",
       "      <th>2020-11-03 20:37:22</th>\n",
       "      <td>NaT</td>\n",
       "      <td>NaT</td>\n",
       "      <td>NaT</td>\n",
       "    </tr>\n",
       "    <tr>\n",
       "      <th>2020-11-03 21:34:22</th>\n",
       "      <td>NaT</td>\n",
       "      <td>NaT</td>\n",
       "      <td>NaT</td>\n",
       "    </tr>\n",
       "    <tr>\n",
       "      <th>2020-11-03 22:06:17</th>\n",
       "      <td>NaT</td>\n",
       "      <td>NaT</td>\n",
       "      <td>NaT</td>\n",
       "    </tr>\n",
       "  </tbody>\n",
       "</table>\n",
       "<p>442 rows × 3 columns</p>\n",
       "</div>"
      ],
      "text/plain": [
       "                                     t1                  sl  pt\n",
       "2020-08-27 11:13:35 2020-08-28 11:44:07 2020-08-28 09:32:54 NaT\n",
       "2020-08-27 12:00:59 2020-08-28 12:19:43 2020-08-28 09:32:54 NaT\n",
       "2020-08-27 13:14:25 2020-08-28 14:10:49 2020-08-28 09:23:31 NaT\n",
       "2020-08-27 15:08:55 2020-08-28 15:35:56 2020-08-28 09:23:31 NaT\n",
       "2020-08-27 15:26:57 2020-08-28 15:35:56 2020-08-27 18:20:21 NaT\n",
       "...                                 ...                 ...  ..\n",
       "2020-11-03 17:32:34                 NaT                 NaT NaT\n",
       "2020-11-03 18:04:14                 NaT                 NaT NaT\n",
       "2020-11-03 20:37:22                 NaT                 NaT NaT\n",
       "2020-11-03 21:34:22                 NaT                 NaT NaT\n",
       "2020-11-03 22:06:17                 NaT                 NaT NaT\n",
       "\n",
       "[442 rows x 3 columns]"
      ]
     },
     "execution_count": 81,
     "metadata": {},
     "output_type": "execute_result"
    }
   ],
   "source": [
    "eventi"
   ]
  },
  {
   "cell_type": "code",
   "execution_count": 82,
   "metadata": {},
   "outputs": [
    {
     "data": {
      "text/plain": [
       "count                     161\n",
       "unique                     69\n",
       "top       2020-09-10 15:41:39\n",
       "freq                        9\n",
       "first     2020-09-03 09:02:09\n",
       "last      2020-11-03 21:34:22\n",
       "Name: pt, dtype: object"
      ]
     },
     "execution_count": 82,
     "metadata": {},
     "output_type": "execute_result"
    }
   ],
   "source": [
    "eventi['pt'].describe()"
   ]
  },
  {
   "cell_type": "code",
   "execution_count": 83,
   "metadata": {},
   "outputs": [
    {
     "data": {
      "text/plain": [
       "count                     220\n",
       "unique                     65\n",
       "top       2020-10-30 08:01:15\n",
       "freq                       20\n",
       "first     2020-08-27 18:20:21\n",
       "last      2020-10-30 08:01:15\n",
       "Name: sl, dtype: object"
      ]
     },
     "execution_count": 83,
     "metadata": {},
     "output_type": "execute_result"
    }
   ],
   "source": [
    "eventi['sl'].describe()"
   ]
  },
  {
   "cell_type": "markdown",
   "metadata": {},
   "source": [
    "## d) "
   ]
  },
  {
   "cell_type": "code",
   "execution_count": 43,
   "metadata": {},
   "outputs": [],
   "source": [
    "def get_bins(events, close):\n",
    "    # Prices algined with events\n",
    "    events = events.dropna(subset=['t1'])# elimina righe in cui non ci sono valori in t1 quindi l'ultimo giorno\n",
    "    px = events.index.union(events['t1'].values).drop_duplicates() #unisce i 2 elementi quindi crea una lista con entrambe le date ed elimina quelle duplicate\n",
    "    px = close.reindex(px, method='bfill') # indica la close avvenuta su tutte le date che abbiamo unito\n",
    "    # Create out object\n",
    "    out = pd.DataFrame(index=events.index)\n",
    "    out['ret'] = px.loc[events['t1'].values].values / px.loc[events.index] - 1. #calcolo i returns\n",
    "    if 'side' in events: # se in events abbiamo già definito la posizione buy or sell la moltiplichiamo per il return\n",
    "        out['ret'] *= events['side']\n",
    "    out['bin'] = np.sign(out['ret'])\n",
    "    if 'side' in events:\n",
    "        out.loc[out['ret'] <= 0, 'bin'] = 0\n",
    "    return out"
   ]
  },
  {
   "cell_type": "code",
   "execution_count": 44,
   "metadata": {},
   "outputs": [],
   "source": [
    "bins = get_bins(eventi,dollar_bars.Close)"
   ]
  },
  {
   "cell_type": "code",
   "execution_count": 55,
   "metadata": {},
   "outputs": [
    {
     "data": {
      "text/html": [
       "<div>\n",
       "<style scoped>\n",
       "    .dataframe tbody tr th:only-of-type {\n",
       "        vertical-align: middle;\n",
       "    }\n",
       "\n",
       "    .dataframe tbody tr th {\n",
       "        vertical-align: top;\n",
       "    }\n",
       "\n",
       "    .dataframe thead th {\n",
       "        text-align: right;\n",
       "    }\n",
       "</style>\n",
       "<table border=\"1\" class=\"dataframe\">\n",
       "  <thead>\n",
       "    <tr style=\"text-align: right;\">\n",
       "      <th></th>\n",
       "      <th>ret</th>\n",
       "      <th>bin</th>\n",
       "    </tr>\n",
       "  </thead>\n",
       "  <tbody>\n",
       "    <tr>\n",
       "      <th>2020-08-27 11:13:35</th>\n",
       "      <td>0.0</td>\n",
       "      <td>0.0</td>\n",
       "    </tr>\n",
       "    <tr>\n",
       "      <th>2020-09-04 09:04:55</th>\n",
       "      <td>0.0</td>\n",
       "      <td>0.0</td>\n",
       "    </tr>\n",
       "    <tr>\n",
       "      <th>2020-09-10 10:36:48</th>\n",
       "      <td>0.0</td>\n",
       "      <td>0.0</td>\n",
       "    </tr>\n",
       "    <tr>\n",
       "      <th>2020-09-22 17:38:41</th>\n",
       "      <td>0.0</td>\n",
       "      <td>0.0</td>\n",
       "    </tr>\n",
       "    <tr>\n",
       "      <th>2020-09-23 17:35:21</th>\n",
       "      <td>0.0</td>\n",
       "      <td>0.0</td>\n",
       "    </tr>\n",
       "    <tr>\n",
       "      <th>2020-09-29 19:45:03</th>\n",
       "      <td>0.0</td>\n",
       "      <td>0.0</td>\n",
       "    </tr>\n",
       "    <tr>\n",
       "      <th>2020-10-28 15:56:03</th>\n",
       "      <td>0.0</td>\n",
       "      <td>0.0</td>\n",
       "    </tr>\n",
       "    <tr>\n",
       "      <th>2020-10-28 16:11:03</th>\n",
       "      <td>0.0</td>\n",
       "      <td>0.0</td>\n",
       "    </tr>\n",
       "  </tbody>\n",
       "</table>\n",
       "</div>"
      ],
      "text/plain": [
       "                     ret  bin\n",
       "2020-08-27 11:13:35  0.0  0.0\n",
       "2020-09-04 09:04:55  0.0  0.0\n",
       "2020-09-10 10:36:48  0.0  0.0\n",
       "2020-09-22 17:38:41  0.0  0.0\n",
       "2020-09-23 17:35:21  0.0  0.0\n",
       "2020-09-29 19:45:03  0.0  0.0\n",
       "2020-10-28 15:56:03  0.0  0.0\n",
       "2020-10-28 16:11:03  0.0  0.0"
      ]
     },
     "execution_count": 55,
     "metadata": {},
     "output_type": "execute_result"
    }
   ],
   "source": [
    "bins[bins['bin'] == 0]"
   ]
  },
  {
   "cell_type": "markdown",
   "metadata": {},
   "source": [
    "**3.2** From excercise 1, use snippet 3.8 to drop rare labels:"
   ]
  },
  {
   "cell_type": "code",
   "execution_count": 58,
   "metadata": {},
   "outputs": [],
   "source": [
    "def drop_labels(events, min_pct=0.05):\n",
    "    while True:\n",
    "        df = events['bin'].value_counts(normalize=True)\n",
    "        if df.min() > min_pct or df.shape[0] < 3:\n",
    "            break\n",
    "        print('dropped label', df.idxmin(), df.min())\n",
    "        events = events[events['bin'] != df.idxmin()]\n",
    "    return events"
   ]
  },
  {
   "cell_type": "code",
   "execution_count": 59,
   "metadata": {},
   "outputs": [
    {
     "name": "stdout",
     "output_type": "stream",
     "text": [
      "dropped label 0.0 0.019184652278177457\n",
      "(417, 2)\n",
      "(409, 2)\n"
     ]
    }
   ],
   "source": [
    "dropped_bins = drop_labels(bins)\n",
    "print(bins.shape)\n",
    "print(dropped_bins.shape)"
   ]
  },
  {
   "cell_type": "code",
   "execution_count": 61,
   "metadata": {},
   "outputs": [
    {
     "data": {
      "text/html": [
       "<div>\n",
       "<style scoped>\n",
       "    .dataframe tbody tr th:only-of-type {\n",
       "        vertical-align: middle;\n",
       "    }\n",
       "\n",
       "    .dataframe tbody tr th {\n",
       "        vertical-align: top;\n",
       "    }\n",
       "\n",
       "    .dataframe thead th {\n",
       "        text-align: right;\n",
       "    }\n",
       "</style>\n",
       "<table border=\"1\" class=\"dataframe\">\n",
       "  <thead>\n",
       "    <tr style=\"text-align: right;\">\n",
       "      <th></th>\n",
       "      <th>ret</th>\n",
       "      <th>bin</th>\n",
       "    </tr>\n",
       "  </thead>\n",
       "  <tbody>\n",
       "  </tbody>\n",
       "</table>\n",
       "</div>"
      ],
      "text/plain": [
       "Empty DataFrame\n",
       "Columns: [ret, bin]\n",
       "Index: []"
      ]
     },
     "execution_count": 61,
     "metadata": {},
     "output_type": "execute_result"
    }
   ],
   "source": [
    "dropped_bins[dropped_bins['bin'] == 0]"
   ]
  },
  {
   "cell_type": "code",
   "execution_count": 66,
   "metadata": {},
   "outputs": [
    {
     "data": {
      "text/plain": [
       "-1.0    0.556355\n",
       " 1.0    0.424460\n",
       " 0.0    0.019185\n",
       "Name: bin, dtype: float64"
      ]
     },
     "execution_count": 66,
     "metadata": {},
     "output_type": "execute_result"
    }
   ],
   "source": [
    "bins['bin'].value_counts(normalize=True)"
   ]
  },
  {
   "cell_type": "code",
   "execution_count": 62,
   "metadata": {},
   "outputs": [],
   "source": [
    "# Ha eliminato le labels con i zeri"
   ]
  },
  {
   "cell_type": "markdown",
   "metadata": {},
   "source": [
    "**3.3** Adjust *getBins* function to return 0 whenever the vertical barrier is the one touched first:"
   ]
  },
  {
   "cell_type": "code",
   "execution_count": 84,
   "metadata": {},
   "outputs": [],
   "source": [
    "eventi['t1_type'] = eventi.idxmin(axis=1) # mi indica quale barriera viene toccata prima"
   ]
  },
  {
   "cell_type": "code",
   "execution_count": 86,
   "metadata": {},
   "outputs": [
    {
     "data": {
      "text/html": [
       "<div>\n",
       "<style scoped>\n",
       "    .dataframe tbody tr th:only-of-type {\n",
       "        vertical-align: middle;\n",
       "    }\n",
       "\n",
       "    .dataframe tbody tr th {\n",
       "        vertical-align: top;\n",
       "    }\n",
       "\n",
       "    .dataframe thead th {\n",
       "        text-align: right;\n",
       "    }\n",
       "</style>\n",
       "<table border=\"1\" class=\"dataframe\">\n",
       "  <thead>\n",
       "    <tr style=\"text-align: right;\">\n",
       "      <th></th>\n",
       "      <th>t1</th>\n",
       "      <th>sl</th>\n",
       "      <th>pt</th>\n",
       "      <th>t1_type</th>\n",
       "    </tr>\n",
       "  </thead>\n",
       "  <tbody>\n",
       "    <tr>\n",
       "      <th>2020-08-27 11:13:35</th>\n",
       "      <td>2020-08-28 11:44:07</td>\n",
       "      <td>2020-08-28 09:32:54</td>\n",
       "      <td>NaT</td>\n",
       "      <td>sl</td>\n",
       "    </tr>\n",
       "    <tr>\n",
       "      <th>2020-08-27 12:00:59</th>\n",
       "      <td>2020-08-28 12:19:43</td>\n",
       "      <td>2020-08-28 09:32:54</td>\n",
       "      <td>NaT</td>\n",
       "      <td>sl</td>\n",
       "    </tr>\n",
       "    <tr>\n",
       "      <th>2020-08-27 13:14:25</th>\n",
       "      <td>2020-08-28 14:10:49</td>\n",
       "      <td>2020-08-28 09:23:31</td>\n",
       "      <td>NaT</td>\n",
       "      <td>sl</td>\n",
       "    </tr>\n",
       "    <tr>\n",
       "      <th>2020-08-27 15:08:55</th>\n",
       "      <td>2020-08-28 15:35:56</td>\n",
       "      <td>2020-08-28 09:23:31</td>\n",
       "      <td>NaT</td>\n",
       "      <td>sl</td>\n",
       "    </tr>\n",
       "    <tr>\n",
       "      <th>2020-08-27 15:26:57</th>\n",
       "      <td>2020-08-28 15:35:56</td>\n",
       "      <td>2020-08-27 18:20:21</td>\n",
       "      <td>NaT</td>\n",
       "      <td>sl</td>\n",
       "    </tr>\n",
       "    <tr>\n",
       "      <th>...</th>\n",
       "      <td>...</td>\n",
       "      <td>...</td>\n",
       "      <td>...</td>\n",
       "      <td>...</td>\n",
       "    </tr>\n",
       "    <tr>\n",
       "      <th>2020-11-03 17:32:34</th>\n",
       "      <td>NaT</td>\n",
       "      <td>NaT</td>\n",
       "      <td>NaT</td>\n",
       "      <td>NaN</td>\n",
       "    </tr>\n",
       "    <tr>\n",
       "      <th>2020-11-03 18:04:14</th>\n",
       "      <td>NaT</td>\n",
       "      <td>NaT</td>\n",
       "      <td>NaT</td>\n",
       "      <td>NaN</td>\n",
       "    </tr>\n",
       "    <tr>\n",
       "      <th>2020-11-03 20:37:22</th>\n",
       "      <td>NaT</td>\n",
       "      <td>NaT</td>\n",
       "      <td>NaT</td>\n",
       "      <td>NaN</td>\n",
       "    </tr>\n",
       "    <tr>\n",
       "      <th>2020-11-03 21:34:22</th>\n",
       "      <td>NaT</td>\n",
       "      <td>NaT</td>\n",
       "      <td>NaT</td>\n",
       "      <td>NaN</td>\n",
       "    </tr>\n",
       "    <tr>\n",
       "      <th>2020-11-03 22:06:17</th>\n",
       "      <td>NaT</td>\n",
       "      <td>NaT</td>\n",
       "      <td>NaT</td>\n",
       "      <td>NaN</td>\n",
       "    </tr>\n",
       "  </tbody>\n",
       "</table>\n",
       "<p>442 rows × 4 columns</p>\n",
       "</div>"
      ],
      "text/plain": [
       "                                     t1                  sl  pt t1_type\n",
       "2020-08-27 11:13:35 2020-08-28 11:44:07 2020-08-28 09:32:54 NaT      sl\n",
       "2020-08-27 12:00:59 2020-08-28 12:19:43 2020-08-28 09:32:54 NaT      sl\n",
       "2020-08-27 13:14:25 2020-08-28 14:10:49 2020-08-28 09:23:31 NaT      sl\n",
       "2020-08-27 15:08:55 2020-08-28 15:35:56 2020-08-28 09:23:31 NaT      sl\n",
       "2020-08-27 15:26:57 2020-08-28 15:35:56 2020-08-27 18:20:21 NaT      sl\n",
       "...                                 ...                 ...  ..     ...\n",
       "2020-11-03 17:32:34                 NaT                 NaT NaT     NaN\n",
       "2020-11-03 18:04:14                 NaT                 NaT NaT     NaN\n",
       "2020-11-03 20:37:22                 NaT                 NaT NaT     NaN\n",
       "2020-11-03 21:34:22                 NaT                 NaT NaT     NaN\n",
       "2020-11-03 22:06:17                 NaT                 NaT NaT     NaN\n",
       "\n",
       "[442 rows x 4 columns]"
      ]
     },
     "execution_count": 86,
     "metadata": {},
     "output_type": "execute_result"
    }
   ],
   "source": [
    "eventi"
   ]
  },
  {
   "cell_type": "code",
   "execution_count": 87,
   "metadata": {},
   "outputs": [],
   "source": [
    "def get_bins(events, close):\n",
    "    # Prices algined with events\n",
    "    events = events.dropna(subset=['t1'])\n",
    "    px = events.index.union(events['t1'].values).drop_duplicates()\n",
    "    px = close.reindex(px, method='bfill')\n",
    "    # Create out object\n",
    "    out = pd.DataFrame(index=events.index)\n",
    "    out['ret'] = px.loc[events['t1'].values].values / px.loc[events.index] - 1.\n",
    "    if 'side' in events:\n",
    "        out['ret'] *= events['side']\n",
    "    out['bin'] = np.sign(out['ret'])\n",
    "    # 0 when touching vertical line\n",
    "    out['bin'].loc[events['t1_type'] == 't1'] = 0 #se viene toccata prima la barriera del tempo bin=0\n",
    "    if 'side' in events:\n",
    "        out.loc[out['ret'] <= 0, 'bin'] = 0\n",
    "    return out"
   ]
  },
  {
   "cell_type": "code",
   "execution_count": 88,
   "metadata": {},
   "outputs": [],
   "source": [
    "bins = get_bins(eventi,dollar_bars.Close)"
   ]
  },
  {
   "cell_type": "code",
   "execution_count": 89,
   "metadata": {},
   "outputs": [
    {
     "data": {
      "text/html": [
       "<div>\n",
       "<style scoped>\n",
       "    .dataframe tbody tr th:only-of-type {\n",
       "        vertical-align: middle;\n",
       "    }\n",
       "\n",
       "    .dataframe tbody tr th {\n",
       "        vertical-align: top;\n",
       "    }\n",
       "\n",
       "    .dataframe thead th {\n",
       "        text-align: right;\n",
       "    }\n",
       "</style>\n",
       "<table border=\"1\" class=\"dataframe\">\n",
       "  <thead>\n",
       "    <tr style=\"text-align: right;\">\n",
       "      <th></th>\n",
       "      <th>ret</th>\n",
       "      <th>bin</th>\n",
       "    </tr>\n",
       "  </thead>\n",
       "  <tbody>\n",
       "    <tr>\n",
       "      <th>2020-08-27 11:13:35</th>\n",
       "      <td>0.000000</td>\n",
       "      <td>0.0</td>\n",
       "    </tr>\n",
       "    <tr>\n",
       "      <th>2020-08-27 12:00:59</th>\n",
       "      <td>-0.003510</td>\n",
       "      <td>-1.0</td>\n",
       "    </tr>\n",
       "    <tr>\n",
       "      <th>2020-08-27 13:14:25</th>\n",
       "      <td>-0.004248</td>\n",
       "      <td>-1.0</td>\n",
       "    </tr>\n",
       "    <tr>\n",
       "      <th>2020-08-27 15:08:55</th>\n",
       "      <td>-0.007500</td>\n",
       "      <td>-1.0</td>\n",
       "    </tr>\n",
       "    <tr>\n",
       "      <th>2020-08-27 15:26:57</th>\n",
       "      <td>-0.010962</td>\n",
       "      <td>-1.0</td>\n",
       "    </tr>\n",
       "    <tr>\n",
       "      <th>...</th>\n",
       "      <td>...</td>\n",
       "      <td>...</td>\n",
       "    </tr>\n",
       "    <tr>\n",
       "      <th>2020-11-02 17:17:35</th>\n",
       "      <td>0.033871</td>\n",
       "      <td>1.0</td>\n",
       "    </tr>\n",
       "    <tr>\n",
       "      <th>2020-11-02 17:34:52</th>\n",
       "      <td>0.030799</td>\n",
       "      <td>1.0</td>\n",
       "    </tr>\n",
       "    <tr>\n",
       "      <th>2020-11-02 17:57:31</th>\n",
       "      <td>0.028276</td>\n",
       "      <td>1.0</td>\n",
       "    </tr>\n",
       "    <tr>\n",
       "      <th>2020-11-02 19:24:13</th>\n",
       "      <td>0.036936</td>\n",
       "      <td>1.0</td>\n",
       "    </tr>\n",
       "    <tr>\n",
       "      <th>2020-11-02 21:55:00</th>\n",
       "      <td>0.031000</td>\n",
       "      <td>1.0</td>\n",
       "    </tr>\n",
       "  </tbody>\n",
       "</table>\n",
       "<p>417 rows × 2 columns</p>\n",
       "</div>"
      ],
      "text/plain": [
       "                          ret  bin\n",
       "2020-08-27 11:13:35  0.000000  0.0\n",
       "2020-08-27 12:00:59 -0.003510 -1.0\n",
       "2020-08-27 13:14:25 -0.004248 -1.0\n",
       "2020-08-27 15:08:55 -0.007500 -1.0\n",
       "2020-08-27 15:26:57 -0.010962 -1.0\n",
       "...                       ...  ...\n",
       "2020-11-02 17:17:35  0.033871  1.0\n",
       "2020-11-02 17:34:52  0.030799  1.0\n",
       "2020-11-02 17:57:31  0.028276  1.0\n",
       "2020-11-02 19:24:13  0.036936  1.0\n",
       "2020-11-02 21:55:00  0.031000  1.0\n",
       "\n",
       "[417 rows x 2 columns]"
      ]
     },
     "execution_count": 89,
     "metadata": {},
     "output_type": "execute_result"
    }
   ],
   "source": [
    "bins."
   ]
  },
  {
   "cell_type": "code",
   "execution_count": 94,
   "metadata": {},
   "outputs": [
    {
     "data": {
      "text/plain": [
       "-1.0    182\n",
       " 1.0    134\n",
       " 0.0    101\n",
       "Name: bin, dtype: int64"
      ]
     },
     "execution_count": 94,
     "metadata": {},
     "output_type": "execute_result"
    }
   ],
   "source": [
    "bins['bin'].value_counts()"
   ]
  },
  {
   "cell_type": "code",
   "execution_count": null,
   "metadata": {},
   "outputs": [],
   "source": [
    "#ora sono bilanciati"
   ]
  },
  {
   "cell_type": "markdown",
   "metadata": {},
   "source": [
    "**3.4** Develop a trend-following strategy based on a popular technical analysis statistic(es. crossing moving averages). For each observation, the model suggests a side but not a size of the bet.\n",
    "\n",
    "> **a)** Derive meta-labels for *ptSl=[1,2]* and *t1* where *numDays=1*. Use as *trgt* the daily standard deviation as computed previusly\n",
    "\n",
    "> **b)** Train a random forest to decide whether to trade or not. Note: the decision is whether to training or not {0,1}, since the underlying model (the crosing moving average) has decided the side {-1,1}."
   ]
  },
  {
   "cell_type": "markdown",
   "metadata": {},
   "source": [
    "## a)"
   ]
  },
  {
   "cell_type": "code",
   "execution_count": 160,
   "metadata": {},
   "outputs": [],
   "source": [
    "# Compute moving averages\n",
    "fast_window = 5\n",
    "slow_window = 10\n",
    "\n",
    "dollar_bars['Fast_mavg'] = dollar_bars['Close'].rolling(fast_window).mean()\n",
    "dollar_bars['Slow_mavg'] = dollar_bars['Close'].rolling(slow_window).mean()\n",
    "\n",
    "#compute side\n",
    "dollar_bars['Side'] = 0\n",
    "\n",
    "long_signals = np.where((dollar_bars['Fast_mavg'].shift(1)<=dollar_bars['Slow_mavg'].shift(1)) &\n",
    "                        (dollar_bars['Fast_mavg']>dollar_bars['Slow_mavg']),True,False)\n",
    "\n",
    "short_signals = np.where((dollar_bars['Fast_mavg'].shift(1)>=dollar_bars['Slow_mavg'].shift(1)) &\n",
    "                        (dollar_bars['Fast_mavg']<dollar_bars['Slow_mavg']),True,False)\n",
    "\n",
    "dollar_bars.loc[long_signals, 'Side'] = 1\n",
    "dollar_bars.loc[short_signals, 'Side'] = -1\n",
    "\n",
    "# Remove Look ahead biase by lagging the signal\n",
    "dollar_bars['Side'] = dollar_bars['Side'].shift(1)"
   ]
  },
  {
   "cell_type": "code",
   "execution_count": 161,
   "metadata": {},
   "outputs": [
    {
     "data": {
      "text/plain": [
       " 0.0    941\n",
       "-1.0     54\n",
       " 1.0     54\n",
       "Name: Side, dtype: int64"
      ]
     },
     "execution_count": 161,
     "metadata": {},
     "output_type": "execute_result"
    }
   ],
   "source": [
    "dollar_bars['Side'].value_counts()"
   ]
  },
  {
   "cell_type": "code",
   "execution_count": 162,
   "metadata": {},
   "outputs": [
    {
     "data": {
      "text/plain": [
       "<matplotlib.axes._subplots.AxesSubplot at 0x1b6d6c7d748>"
      ]
     },
     "execution_count": 162,
     "metadata": {},
     "output_type": "execute_result"
    },
    {
     "data": {
      "image/png": "[encoded data removed]",
      "text/plain": [
       "<Figure size 792x576 with 1 Axes>"
      ]
     },
     "metadata": {
      "needs_background": "light"
     },
     "output_type": "display_data"
    }
   ],
   "source": [
    "f, ax = plt.subplots(figsize=(11,8))\n",
    "\n",
    "dollar_bars['Close'].plot()\n",
    "dollar_bars['Fast_mavg'].plot()\n",
    "dollar_bars['Slow_mavg'].plot()"
   ]
  },
  {
   "cell_type": "code",
   "execution_count": 163,
   "metadata": {},
   "outputs": [],
   "source": [
    "volatilities['trgt_return']=0.01 #scelgo target return da considerare per lo stop loss e take profit (se return una volta aperta la posizione è >1% o <-1% chiudo la posizione)\n",
    "# dovrei vedere meglio il calcolo dei returns: dovrei usare log returns e chiudere la posizione quando la somma del return dal momento dell'apertura supera 1% o va al di sotto -1%\n",
    "trgt = volatilities['trgt_return'].loc[tEvents] #selezione i target returns nella barra in cui volatilità effettiva è > volatilità stimata media\n",
    "t1= t1.reindex(tEvents)# per ogni giorno che si verifica volatilità effettiva > della stimata media inseriamo la barriera verticale il giorno dopo\n",
    "side = dollar_bars['Side'].loc[tEvents] # per ogni giorno che si verifica volatilità effettiva > della stimata media inseriamo la side buy=1 sell=-1\n",
    "events = pd.concat({'t1':t1,'trgt':trgt,'side':side},axis=1)"
   ]
  },
  {
   "cell_type": "code",
   "execution_count": 164,
   "metadata": {},
   "outputs": [],
   "source": [
    "def new_ptslt1(close, events, ptsl):\n",
    "    \"\"\"Apply stop loss/profit taking, if it takes place before t1 (end of event)\"\"\"\n",
    "    # Sample a subset with specific indices\n",
    "    _events = events\n",
    "    # Time limit\n",
    "    \n",
    "    out = _events[['t1']].copy(deep=True)\n",
    "    # Set Profit Taking and Stop Loss\n",
    "    if ptsl[0] > 0:\n",
    "        pt = ptsl[0] *  _events[\"trgt\"]\n",
    "    else:\n",
    "        # Switch off profit taking\n",
    "        pt = pd.Series(index=_events.index) #NaNs\n",
    "    if ptsl[1] > 0:\n",
    "        sl = -ptsl[1] * _events[\"trgt\"]\n",
    "    else:\n",
    "        # Switch off stop loss\n",
    "        sl = pd.Series(index=_events.index) # NaNs\n",
    "    for loc, t1 in _events['t1'].fillna(close.index[-1]).iteritems(): #fill Na with the last date\n",
    "        df0 = close[loc:t1] # riporto close per ogni barra t1 \n",
    "        # Change the direction depending on the side\n",
    "        df0 = (df0 / close[loc] - 1)* _events.at[loc, 'side'] # at Similar to loc, in that both provide label-based lookups. Use at if you only need to get or set a single value in a DataFrame or Series. \n",
    "        #questo è il return in caso non viene colpito ne stop loss ne take profit.\n",
    "        out.loc[loc, 'sl'] = df0[df0 < sl[loc]].index.min() #earliest stop loss\n",
    "        out.loc[loc, 'pt'] = df0[df0 > pt[loc]].index.min() #earliest profit taking\n",
    "    return out"
   ]
  },
  {
   "cell_type": "code",
   "execution_count": 165,
   "metadata": {},
   "outputs": [],
   "source": [
    "ptsl = [1,2]\n",
    "eventi=new_ptslt1(dollar_bars.Close,events,ptsl)"
   ]
  },
  {
   "cell_type": "code",
   "execution_count": 166,
   "metadata": {},
   "outputs": [],
   "source": [
    "eventi['side'] = side"
   ]
  },
  {
   "cell_type": "code",
   "execution_count": 167,
   "metadata": {},
   "outputs": [
    {
     "data": {
      "text/plain": [
       "count                       5\n",
       "unique                      5\n",
       "top       2020-10-28 08:23:14\n",
       "freq                        1\n",
       "first     2020-09-03 17:04:38\n",
       "last      2020-10-30 08:01:15\n",
       "Name: sl, dtype: object"
      ]
     },
     "execution_count": 167,
     "metadata": {},
     "output_type": "execute_result"
    }
   ],
   "source": [
    "eventi['sl'].describe()"
   ]
  },
  {
   "cell_type": "code",
   "execution_count": 168,
   "metadata": {},
   "outputs": [],
   "source": [
    "def new_get_bins(events, close):\n",
    "    # Prices algined with events\n",
    "    events = events.dropna(subset=['t1'])\n",
    "    px = events.index.union(events['t1'].values).drop_duplicates()\n",
    "    px = close.reindex(px, method='bfill')\n",
    "    # Create out object\n",
    "    out = pd.DataFrame(index=events.index)\n",
    "    out['ret'] = px.loc[events['t1'].values].values / px.loc[events.index] - 1.\n",
    "    if 'side' in events:\n",
    "        out['ret'] *= events['side']\n",
    "    out['bin'] = np.sign(out['ret'])\n",
    "    if 'side' in events:\n",
    "        out.loc[out['ret'] <= 0, 'bin'] = 0\n",
    "    return out"
   ]
  },
  {
   "cell_type": "code",
   "execution_count": 169,
   "metadata": {},
   "outputs": [],
   "source": [
    "bins = new_get_bins(eventi,dollar_bars.Close)"
   ]
  },
  {
   "cell_type": "code",
   "execution_count": 170,
   "metadata": {},
   "outputs": [
    {
     "data": {
      "text/plain": [
       "0.0    397\n",
       "1.0     20\n",
       "Name: bin, dtype: int64"
      ]
     },
     "execution_count": 170,
     "metadata": {},
     "output_type": "execute_result"
    }
   ],
   "source": [
    "bins['bin'].value_counts()"
   ]
  },
  {
   "cell_type": "markdown",
   "metadata": {},
   "source": [
    "## b)"
   ]
  },
  {
   "cell_type": "code",
   "execution_count": 172,
   "metadata": {},
   "outputs": [],
   "source": [
    "from sklearn.ensemble import RandomForestClassifier\n",
    "from sklearn.model_selection import train_test_split\n",
    "from sklearn.metrics import roc_curve, classification_report"
   ]
  },
  {
   "cell_type": "code",
   "execution_count": 194,
   "metadata": {},
   "outputs": [],
   "source": [
    "data = pd.concat({'side':side,'bins':pd.Series(bins.bin)},axis=1)"
   ]
  },
  {
   "cell_type": "code",
   "execution_count": 196,
   "metadata": {},
   "outputs": [],
   "source": [
    "data.dropna(inplace=True)"
   ]
  },
  {
   "cell_type": "code",
   "execution_count": 201,
   "metadata": {},
   "outputs": [
    {
     "name": "stdout",
     "output_type": "stream",
     "text": [
      "              precision    recall  f1-score   support\n",
      "\n",
      "         0.0       0.98      0.98      0.98       201\n",
      "         1.0       0.44      0.50      0.47         8\n",
      "\n",
      "    accuracy                           0.96       209\n",
      "   macro avg       0.71      0.74      0.72       209\n",
      "weighted avg       0.96      0.96      0.96       209\n",
      "\n"
     ]
    },
    {
     "data": {
      "image/png": "[encoded data removed]",
      "text/plain": [
       "<Figure size 432x288 with 1 Axes>"
      ]
     },
     "metadata": {
      "needs_background": "light"
     },
     "output_type": "display_data"
    }
   ],
   "source": [
    "X = data.side.values.reshape(-1,1)\n",
    "y = data.bins\n",
    "\n",
    "X_train, X_test, y_train, y_test = train_test_split(X, y, test_size=0.5,\n",
    "                                                    shuffle=False)\n",
    "n_estimator = 10000\n",
    "rf = RandomForestClassifier(max_depth=2, n_estimators=n_estimator,\n",
    "                            criterion='entropy')\n",
    "rf.fit(X_train, y_train)\n",
    "\n",
    "# The random forest model by itself\n",
    "y_pred_rf = rf.predict_proba(X_test)[:, 1]\n",
    "y_pred = rf.predict(X_test)\n",
    "fpr_rf, tpr_rf, _ = roc_curve(y_test, y_pred_rf)\n",
    "print(classification_report(y_test, y_pred))\n",
    "\n",
    "plt.figure(1)\n",
    "plt.plot([0, 1], [0, 1], 'k--')\n",
    "plt.plot(fpr_rf, tpr_rf, label='RF')\n",
    "plt.xlabel('False positive rate')\n",
    "plt.ylabel('True positive rate')\n",
    "plt.title('ROC curve')\n",
    "plt.legend(loc='best')\n",
    "plt.show()"
   ]
  },
  {
   "cell_type": "markdown",
   "metadata": {},
   "source": [
    "# 3.5)"
   ]
  },
  {
   "cell_type": "code",
   "execution_count": 202,
   "metadata": {},
   "outputs": [],
   "source": [
    "X=np.array([[1,0],[0,1]])\n",
    "Y=np.array([[2,1],[1,2]]) \n",
    "Z=np.dot(X,Y)"
   ]
  },
  {
   "cell_type": "code",
   "execution_count": 203,
   "metadata": {},
   "outputs": [
    {
     "data": {
      "text/plain": [
       "array([[2, 1],\n",
       "       [1, 2]])"
      ]
     },
     "execution_count": 203,
     "metadata": {},
     "output_type": "execute_result"
    }
   ],
   "source": [
    "Z"
   ]
  },
  {
   "cell_type": "code",
   "execution_count": null,
   "metadata": {},
   "outputs": [],
   "source": []
  }
 ],
 "metadata": {
  "kernelspec": {
   "display_name": "Python 3",
   "language": "python",
   "name": "python3"
  },
  "language_info": {
   "codemirror_mode": {
    "name": "ipython",
    "version": 3
   },
   "file_extension": ".py",
   "mimetype": "text/x-python",
   "name": "python",
   "nbconvert_exporter": "python",
   "pygments_lexer": "ipython3",
   "version": "3.7.6"
  }
 },
 "nbformat": 4,
 "nbformat_minor": 4
}
