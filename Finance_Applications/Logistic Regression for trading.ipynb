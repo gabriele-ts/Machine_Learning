{
 "cells": [
  {
   "cell_type": "code",
   "execution_count": 7,
   "metadata": {},
   "outputs": [
    {
     "name": "stderr",
     "output_type": "stream",
     "text": [
      "C:\\Users\\Gabriele\\Anaconda3\\lib\\site-packages\\sklearn\\cross_validation.py:41: DeprecationWarning: This module was deprecated in version 0.18 in favor of the model_selection module into which all the refactored classes and functions are moved. Also note that the interface of the new CV iterators are different from that of this module. This module will be removed in 0.20.\n",
      "  \"This module will be removed in 0.20.\", DeprecationWarning)\n"
     ]
    }
   ],
   "source": [
    "# 1) Import Libraries\n",
    "\n",
    "import numpy as np\n",
    "import pandas as pd\n",
    "\n",
    "#technical indicators\n",
    "import talib as ta\n",
    "\n",
    "import matplotlib.pyplot as plt\n",
    "\n",
    "from sklearn.linear_model import LogisticRegression\n",
    "from sklearn import metrics\n",
    "from sklearn.cross_validation import cross_val_score\n",
    "\n",
    "from pandas_datareader import data as pdr\n",
    "import fix_yahoo_finance as yf\n",
    "yf.pdr_override()"
   ]
  },
  {
   "cell_type": "code",
   "execution_count": 9,
   "metadata": {},
   "outputs": [
    {
     "name": "stdout",
     "output_type": "stream",
     "text": [
      "[*********************100%***********************]  1 of 1 downloaded\n"
     ]
    },
    {
     "data": {
      "text/html": [
       "<div>\n",
       "<table border=\"1\" class=\"dataframe\">\n",
       "  <thead>\n",
       "    <tr style=\"text-align: right;\">\n",
       "      <th></th>\n",
       "      <th>Open</th>\n",
       "      <th>High</th>\n",
       "      <th>Low</th>\n",
       "      <th>Close</th>\n",
       "    </tr>\n",
       "    <tr>\n",
       "      <th>Date</th>\n",
       "      <th></th>\n",
       "      <th></th>\n",
       "      <th></th>\n",
       "      <th></th>\n",
       "    </tr>\n",
       "  </thead>\n",
       "  <tbody>\n",
       "    <tr>\n",
       "      <th>2007-09-17</th>\n",
       "      <td>4518.450195</td>\n",
       "      <td>4549.049805</td>\n",
       "      <td>4482.850098</td>\n",
       "      <td>4494.649902</td>\n",
       "    </tr>\n",
       "    <tr>\n",
       "      <th>2007-09-18</th>\n",
       "      <td>4494.100098</td>\n",
       "      <td>4551.799805</td>\n",
       "      <td>4481.549805</td>\n",
       "      <td>4546.200195</td>\n",
       "    </tr>\n",
       "    <tr>\n",
       "      <th>2007-09-19</th>\n",
       "      <td>4550.250000</td>\n",
       "      <td>4739.000000</td>\n",
       "      <td>4550.250000</td>\n",
       "      <td>4732.350098</td>\n",
       "    </tr>\n",
       "    <tr>\n",
       "      <th>2007-09-20</th>\n",
       "      <td>4734.850098</td>\n",
       "      <td>4760.850098</td>\n",
       "      <td>4721.149902</td>\n",
       "      <td>4747.549805</td>\n",
       "    </tr>\n",
       "    <tr>\n",
       "      <th>2007-09-21</th>\n",
       "      <td>4752.950195</td>\n",
       "      <td>4855.700195</td>\n",
       "      <td>4733.700195</td>\n",
       "      <td>4837.549805</td>\n",
       "    </tr>\n",
       "  </tbody>\n",
       "</table>\n",
       "</div>"
      ],
      "text/plain": [
       "                   Open         High          Low        Close\n",
       "Date                                                          \n",
       "2007-09-17  4518.450195  4549.049805  4482.850098  4494.649902\n",
       "2007-09-18  4494.100098  4551.799805  4481.549805  4546.200195\n",
       "2007-09-19  4550.250000  4739.000000  4550.250000  4732.350098\n",
       "2007-09-20  4734.850098  4760.850098  4721.149902  4747.549805\n",
       "2007-09-21  4752.950195  4855.700195  4733.700195  4837.549805"
      ]
     },
     "execution_count": 9,
     "metadata": {},
     "output_type": "execute_result"
    }
   ],
   "source": [
    "#2) Import Nifty 50 from yahoo finance\n",
    "\n",
    "df = pdr.get_data_yahoo('^NSEI', '2000-01-01', '2018-01-01')\n",
    "df.dropna()\n",
    "df = df.iloc[:,:4]\n",
    "df.head()"
   ]
  },
  {
   "cell_type": "code",
   "execution_count": 10,
   "metadata": {},
   "outputs": [],
   "source": [
    "# 3) Define predictor/Independent Variables\n",
    "\n",
    "# we will use  10-days moving average, correltion, Relative Stenght Index RSI,\n",
    "# the difference between the open price of yesterday and today,\n",
    "# the difference close price of yesterday and open price of today,\n",
    "# open, high, low, and close price\n",
    "\n",
    "df['S_10'] = df['Close'].rolling(window=10).mean()\n",
    "df['Corr'] = df['Close'].rolling(window=10).corr(df['S_10'])\n",
    "df['RSI'] = ta.RSI(np.array(df['Close']), timeperiod=10)\n",
    "df['Open-Close'] = df['Open'] - df['Close'].shift(1)\n",
    "df['Open-Open'] = df['Open'] - df['Open'].shift(1)\n",
    "df = df.dropna()\n",
    "X = df.iloc[:,:9]"
   ]
  },
  {
   "cell_type": "code",
   "execution_count": 42,
   "metadata": {},
   "outputs": [
    {
     "data": {
      "text/html": [
       "<div>\n",
       "<table border=\"1\" class=\"dataframe\">\n",
       "  <thead>\n",
       "    <tr style=\"text-align: right;\">\n",
       "      <th></th>\n",
       "      <th>Open</th>\n",
       "      <th>High</th>\n",
       "      <th>Low</th>\n",
       "      <th>Close</th>\n",
       "      <th>S_10</th>\n",
       "      <th>Corr</th>\n",
       "      <th>RSI</th>\n",
       "      <th>Open-Close</th>\n",
       "      <th>Open-Open</th>\n",
       "      <th>Predicted_Signal</th>\n",
       "      <th>Nifty_returns</th>\n",
       "      <th>Startegy_returns</th>\n",
       "    </tr>\n",
       "    <tr>\n",
       "      <th>Date</th>\n",
       "      <th></th>\n",
       "      <th></th>\n",
       "      <th></th>\n",
       "      <th></th>\n",
       "      <th></th>\n",
       "      <th></th>\n",
       "      <th></th>\n",
       "      <th></th>\n",
       "      <th></th>\n",
       "      <th></th>\n",
       "      <th></th>\n",
       "      <th></th>\n",
       "    </tr>\n",
       "  </thead>\n",
       "  <tbody>\n",
       "    <tr>\n",
       "      <th>2007-10-12</th>\n",
       "      <td>5525.299805</td>\n",
       "      <td>5549.299805</td>\n",
       "      <td>5402.600098</td>\n",
       "      <td>5428.250000</td>\n",
       "      <td>5250.250049</td>\n",
       "      <td>0.883517</td>\n",
       "      <td>78.802620</td>\n",
       "      <td>0.449707</td>\n",
       "      <td>86.399903</td>\n",
       "      <td>-1</td>\n",
       "      <td>NaN</td>\n",
       "      <td>NaN</td>\n",
       "    </tr>\n",
       "    <tr>\n",
       "      <th>2007-10-15</th>\n",
       "      <td>5428.350098</td>\n",
       "      <td>5682.649902</td>\n",
       "      <td>5419.899902</td>\n",
       "      <td>5670.399902</td>\n",
       "      <td>5315.155029</td>\n",
       "      <td>0.899851</td>\n",
       "      <td>83.961540</td>\n",
       "      <td>0.100098</td>\n",
       "      <td>-96.949707</td>\n",
       "      <td>1</td>\n",
       "      <td>0.043643</td>\n",
       "      <td>-0.043643</td>\n",
       "    </tr>\n",
       "    <tr>\n",
       "      <th>2007-10-16</th>\n",
       "      <td>5670.649902</td>\n",
       "      <td>5708.350098</td>\n",
       "      <td>5578.450195</td>\n",
       "      <td>5668.049805</td>\n",
       "      <td>5375.064990</td>\n",
       "      <td>0.909270</td>\n",
       "      <td>83.741766</td>\n",
       "      <td>0.250000</td>\n",
       "      <td>242.299804</td>\n",
       "      <td>1</td>\n",
       "      <td>-0.000415</td>\n",
       "      <td>-0.000415</td>\n",
       "    </tr>\n",
       "    <tr>\n",
       "      <th>2007-10-17</th>\n",
       "      <td>5658.899902</td>\n",
       "      <td>5658.899902</td>\n",
       "      <td>5107.299805</td>\n",
       "      <td>5559.299805</td>\n",
       "      <td>5409.914990</td>\n",
       "      <td>0.892397</td>\n",
       "      <td>73.808245</td>\n",
       "      <td>-9.149903</td>\n",
       "      <td>-11.750000</td>\n",
       "      <td>-1</td>\n",
       "      <td>-0.019373</td>\n",
       "      <td>-0.019373</td>\n",
       "    </tr>\n",
       "    <tr>\n",
       "      <th>2007-10-18</th>\n",
       "      <td>5551.100098</td>\n",
       "      <td>5736.799805</td>\n",
       "      <td>5269.649902</td>\n",
       "      <td>5351.000000</td>\n",
       "      <td>5424.150000</td>\n",
       "      <td>0.712693</td>\n",
       "      <td>58.931014</td>\n",
       "      <td>-8.199707</td>\n",
       "      <td>-107.799804</td>\n",
       "      <td>-1</td>\n",
       "      <td>-0.038189</td>\n",
       "      <td>0.038189</td>\n",
       "    </tr>\n",
       "  </tbody>\n",
       "</table>\n",
       "</div>"
      ],
      "text/plain": [
       "                   Open         High          Low        Close         S_10  \\\n",
       "Date                                                                          \n",
       "2007-10-12  5525.299805  5549.299805  5402.600098  5428.250000  5250.250049   \n",
       "2007-10-15  5428.350098  5682.649902  5419.899902  5670.399902  5315.155029   \n",
       "2007-10-16  5670.649902  5708.350098  5578.450195  5668.049805  5375.064990   \n",
       "2007-10-17  5658.899902  5658.899902  5107.299805  5559.299805  5409.914990   \n",
       "2007-10-18  5551.100098  5736.799805  5269.649902  5351.000000  5424.150000   \n",
       "\n",
       "                Corr        RSI  Open-Close   Open-Open  Predicted_Signal  \\\n",
       "Date                                                                        \n",
       "2007-10-12  0.883517  78.802620    0.449707   86.399903                -1   \n",
       "2007-10-15  0.899851  83.961540    0.100098  -96.949707                 1   \n",
       "2007-10-16  0.909270  83.741766    0.250000  242.299804                 1   \n",
       "2007-10-17  0.892397  73.808245   -9.149903  -11.750000                -1   \n",
       "2007-10-18  0.712693  58.931014   -8.199707 -107.799804                -1   \n",
       "\n",
       "            Nifty_returns  Startegy_returns  \n",
       "Date                                         \n",
       "2007-10-12            NaN               NaN  \n",
       "2007-10-15       0.043643         -0.043643  \n",
       "2007-10-16      -0.000415         -0.000415  \n",
       "2007-10-17      -0.019373         -0.019373  \n",
       "2007-10-18      -0.038189          0.038189  "
      ]
     },
     "execution_count": 42,
     "metadata": {},
     "output_type": "execute_result"
    }
   ],
   "source": [
    "df.head()"
   ]
  },
  {
   "cell_type": "code",
   "execution_count": 16,
   "metadata": {},
   "outputs": [],
   "source": [
    "# 4) Define Target/Dependent Variable\n",
    "\n",
    "# The dependent variable is: if tomorrow closing price is > than today closing price\n",
    "# we will buy the stock (1) else we will sell it (-1)\n",
    "\n",
    "y = np.where(df['Close'].shift(-1) > df['Close'],1,-1)"
   ]
  },
  {
   "cell_type": "code",
   "execution_count": 18,
   "metadata": {},
   "outputs": [],
   "source": [
    "# 5) Split Dataset\n",
    "\n",
    "# We will split the dataset into a training and test dataset. 70% to train and 30% to test\n",
    "\n",
    "split = int(0.7*len(df))\n",
    "\n",
    "X_train, X_test, y_train, y_test = X[:split], X[split:], y[:split], y[split:]"
   ]
  },
  {
   "cell_type": "code",
   "execution_count": 19,
   "metadata": {},
   "outputs": [],
   "source": [
    "# 6) Instantiate The Logistic Regression\n",
    "\n",
    "model = LogisticRegression()\n",
    "\n",
    "model = model.fit(X_train,y_train)"
   ]
  },
  {
   "cell_type": "code",
   "execution_count": 25,
   "metadata": {},
   "outputs": [
    {
     "data": {
      "text/html": [
       "<div>\n",
       "<table border=\"1\" class=\"dataframe\">\n",
       "  <thead>\n",
       "    <tr style=\"text-align: right;\">\n",
       "      <th></th>\n",
       "      <th>0</th>\n",
       "    </tr>\n",
       "  </thead>\n",
       "  <tbody>\n",
       "    <tr>\n",
       "      <th>Open</th>\n",
       "      <td>-0.002186</td>\n",
       "    </tr>\n",
       "    <tr>\n",
       "      <th>High</th>\n",
       "      <td>0.000132</td>\n",
       "    </tr>\n",
       "    <tr>\n",
       "      <th>Low</th>\n",
       "      <td>0.000991</td>\n",
       "    </tr>\n",
       "    <tr>\n",
       "      <th>Close</th>\n",
       "      <td>0.000139</td>\n",
       "    </tr>\n",
       "    <tr>\n",
       "      <th>S_10</th>\n",
       "      <td>0.000922</td>\n",
       "    </tr>\n",
       "    <tr>\n",
       "      <th>Corr</th>\n",
       "      <td>0.000119</td>\n",
       "    </tr>\n",
       "    <tr>\n",
       "      <th>RSI</th>\n",
       "      <td>0.002252</td>\n",
       "    </tr>\n",
       "    <tr>\n",
       "      <th>Open-Close</th>\n",
       "      <td>0.004156</td>\n",
       "    </tr>\n",
       "    <tr>\n",
       "      <th>Open-Open</th>\n",
       "      <td>0.000822</td>\n",
       "    </tr>\n",
       "  </tbody>\n",
       "</table>\n",
       "</div>"
      ],
      "text/plain": [
       "                   0\n",
       "Open       -0.002186\n",
       "High        0.000132\n",
       "Low         0.000991\n",
       "Close       0.000139\n",
       "S_10        0.000922\n",
       "Corr        0.000119\n",
       "RSI         0.002252\n",
       "Open-Close  0.004156\n",
       "Open-Open   0.000822"
      ]
     },
     "execution_count": 25,
     "metadata": {},
     "output_type": "execute_result"
    }
   ],
   "source": [
    "# 7) Examine the coefficients\n",
    "\n",
    "pd.DataFrame(np.transpose(model.coef_), index = df.columns)"
   ]
  },
  {
   "cell_type": "code",
   "execution_count": 28,
   "metadata": {},
   "outputs": [
    {
     "name": "stdout",
     "output_type": "stream",
     "text": [
      "[[ 0.48259597  0.51740403]\n",
      " [ 0.47575723  0.52424277]\n",
      " [ 0.5217862   0.4782138 ]\n",
      " ..., \n",
      " [ 0.50926684  0.49073316]\n",
      " [ 0.4913697   0.5086303 ]\n",
      " [ 0.45767419  0.54232581]]\n"
     ]
    }
   ],
   "source": [
    "# 8) Calculate class Probabilities\n",
    "\n",
    "probability = model.predict_proba(X_test)\n",
    "\n",
    "print(probability)"
   ]
  },
  {
   "cell_type": "code",
   "execution_count": 29,
   "metadata": {},
   "outputs": [],
   "source": [
    "# 9) Predict Class Labels\n",
    "\n",
    "predicted = model.predict(X_test)"
   ]
  },
  {
   "cell_type": "code",
   "execution_count": 32,
   "metadata": {},
   "outputs": [
    {
     "data": {
      "text/plain": [
       "array([ 1,  1, -1, -1, -1,  1,  1,  1, -1, -1,  1,  1,  1,  1,  1,  1, -1,\n",
       "       -1,  1,  1,  1,  1, -1,  1,  1,  1,  1,  1,  1,  1,  1, -1, -1, -1,\n",
       "       -1,  1,  1,  1,  1, -1,  1,  1,  1,  1,  1,  1,  1, -1, -1,  1,  1,\n",
       "        1,  1,  1,  1,  1, -1, -1,  1,  1,  1,  1,  1,  1,  1,  1, -1,  1,\n",
       "        1,  1, -1,  1,  1,  1,  1,  1,  1,  1,  1, -1,  1, -1, -1, -1, -1,\n",
       "        1,  1,  1,  1,  1,  1, -1,  1,  1, -1, -1,  1,  1, -1,  1,  1,  1,\n",
       "        1, -1,  1,  1,  1, -1, -1, -1,  1,  1,  1, -1, -1,  1,  1,  1,  1,\n",
       "        1,  1,  1,  1,  1,  1,  1,  1,  1,  1, -1, -1, -1, -1,  1,  1,  1,\n",
       "        1, -1,  1, -1,  1,  1,  1,  1,  1,  1,  1,  1, -1,  1,  1, -1, -1,\n",
       "        1,  1,  1,  1,  1,  1,  1,  1, -1,  1,  1, -1,  1,  1,  1,  1,  1,\n",
       "       -1, -1, -1,  1,  1,  1,  1,  1, -1,  1,  1, -1,  1,  1,  1, -1,  1,\n",
       "        1, -1,  1,  1, -1, -1, -1,  1,  1, -1,  1,  1,  1,  1, -1, -1,  1,\n",
       "        1, -1, -1,  1,  1,  1,  1,  1,  1,  1, -1, -1,  1,  1,  1,  1,  1,\n",
       "       -1,  1, -1, -1,  1,  1,  1, -1,  1,  1,  1, -1,  1,  1,  1,  1,  1,\n",
       "       -1, -1,  1, -1,  1,  1,  1, -1,  1,  1,  1, -1, -1, -1,  1,  1,  1,\n",
       "        1,  1,  1, -1,  1,  1, -1,  1, -1,  1,  1, -1,  1, -1,  1, -1,  1,\n",
       "        1,  1,  1, -1,  1,  1, -1, -1,  1,  1, -1, -1, -1, -1,  1,  1,  1,\n",
       "        1,  1, -1,  1, -1, -1,  1,  1, -1,  1,  1,  1, -1, -1, -1, -1, -1,\n",
       "        1, -1,  1,  1,  1,  1,  1,  1, -1, -1,  1,  1, -1,  1, -1,  1,  1,\n",
       "        1,  1,  1,  1,  1,  1,  1, -1, -1,  1,  1, -1,  1, -1,  1,  1,  1,\n",
       "        1,  1,  1, -1,  1, -1,  1,  1, -1, -1,  1,  1,  1,  1,  1,  1,  1,\n",
       "       -1,  1, -1,  1,  1,  1,  1, -1, -1, -1,  1,  1, -1,  1, -1,  1, -1,\n",
       "        1, -1,  1,  1,  1,  1,  1,  1, -1,  1,  1,  1,  1,  1,  1,  1,  1,\n",
       "        1,  1,  1,  1,  1,  1,  1,  1,  1,  1,  1, -1,  1,  1,  1,  1, -1,\n",
       "        1,  1,  1,  1,  1,  1,  1,  1,  1,  1,  1,  1,  1,  1,  1,  1,  1,\n",
       "       -1, -1, -1,  1,  1,  1,  1,  1,  1,  1,  1, -1,  1,  1,  1, -1,  1,\n",
       "        1,  1,  1,  1,  1, -1,  1,  1,  1,  1,  1,  1,  1,  1, -1, -1,  1,\n",
       "        1, -1,  1,  1,  1,  1, -1,  1, -1, -1,  1,  1,  1,  1,  1,  1, -1,\n",
       "        1, -1,  1,  1,  1, -1,  1,  1,  1,  1,  1, -1,  1,  1, -1,  1, -1,\n",
       "        1,  1, -1,  1, -1,  1,  1,  1,  1,  1,  1,  1,  1,  1,  1,  1,  1,\n",
       "        1,  1, -1,  1,  1,  1, -1,  1,  1,  1,  1, -1, -1,  1,  1,  1,  1,\n",
       "       -1,  1,  1,  1,  1,  1, -1,  1,  1,  1,  1,  1,  1,  1,  1,  1,  1,\n",
       "       -1,  1,  1,  1,  1,  1,  1,  1,  1,  1, -1,  1, -1,  1,  1, -1,  1,\n",
       "        1,  1,  1,  1,  1, -1, -1,  1,  1,  1,  1,  1,  1,  1,  1,  1,  1,\n",
       "        1,  1,  1, -1,  1,  1,  1, -1,  1,  1,  1,  1,  1,  1,  1,  1, -1,\n",
       "        1,  1,  1,  1,  1,  1, -1,  1,  1, -1,  1,  1,  1,  1,  1,  1, -1,\n",
       "        1,  1,  1,  1,  1,  1,  1,  1,  1, -1,  1,  1,  1,  1,  1,  1,  1,\n",
       "        1,  1,  1,  1,  1,  1,  1, -1,  1,  1,  1,  1,  1,  1,  1, -1,  1,\n",
       "        1,  1, -1,  1,  1, -1, -1, -1, -1,  1,  1,  1, -1,  1,  1,  1,  1,\n",
       "        1, -1,  1,  1,  1, -1,  1, -1,  1,  1,  1,  1,  1,  1, -1,  1,  1,\n",
       "        1, -1, -1, -1,  1,  1,  1,  1,  1,  1,  1,  1,  1,  1,  1,  1,  1,\n",
       "        1, -1, -1, -1,  1,  1,  1,  1,  1,  1,  1,  1,  1,  1, -1,  1, -1,\n",
       "        1,  1,  1,  1,  1,  1,  1,  1,  1,  1,  1,  1, -1, -1,  1, -1,  1,\n",
       "        1,  1, -1,  1,  1,  1, -1, -1,  1,  1, -1,  1,  1,  1,  1,  1, -1,\n",
       "        1,  1])"
      ]
     },
     "execution_count": 32,
     "metadata": {},
     "output_type": "execute_result"
    }
   ],
   "source": [
    "#the classifier is predicting 1 when the probability in the second column of variable 'probability s greater than 0.5\n",
    "predicted"
   ]
  },
  {
   "cell_type": "code",
   "execution_count": 33,
   "metadata": {},
   "outputs": [
    {
     "name": "stdout",
     "output_type": "stream",
     "text": [
      "             precision    recall  f1-score   support\n",
      "\n",
      "         -1       0.51      0.27      0.35       358\n",
      "          1       0.53      0.77      0.63       392\n",
      "\n",
      "avg / total       0.52      0.53      0.50       750\n",
      "\n"
     ]
    }
   ],
   "source": [
    "# 10) Evaluate the model\n",
    "\n",
    "# a) Classification report\n",
    "\n",
    "print(metrics.classification_report(y_test, predicted))\n",
    "\n"
   ]
  },
  {
   "cell_type": "code",
   "execution_count": 34,
   "metadata": {},
   "outputs": [
    {
     "name": "stdout",
     "output_type": "stream",
     "text": [
      "0.528\n"
     ]
    }
   ],
   "source": [
    "# b) Model accurancy\n",
    "\n",
    "print(model.score(X_test, y_test))"
   ]
  },
  {
   "cell_type": "code",
   "execution_count": 36,
   "metadata": {},
   "outputs": [
    {
     "name": "stdout",
     "output_type": "stream",
     "text": [
      "[ 0.54        0.52        0.472       0.564       0.48        0.516       0.552\n",
      "  0.564       0.5         0.52610442]\n",
      "0.523410441767\n"
     ]
    }
   ],
   "source": [
    "# c) Cross-Validation\n",
    "\n",
    "cross_val = cross_val_score(LogisticRegression(), X, y, scoring='accuracy', cv=10)\n",
    "\n",
    "print(cross_val)\n",
    "\n",
    "print(cross_val.mean())"
   ]
  },
  {
   "cell_type": "code",
   "execution_count": 37,
   "metadata": {},
   "outputs": [
    {
     "data": {
      "image/png": "[encoded data removed]",
      "text/plain": [
       "<matplotlib.figure.Figure at 0x234048fde48>"
      ]
     },
     "metadata": {},
     "output_type": "display_data"
    }
   ],
   "source": [
    "# 11) Creating trading strategy using the model\n",
    "\n",
    "df['Predicted_Signal'] = model.predict(X)\n",
    "df['Nifty_returns'] = np.log(df['Close']/df['Close'].shift(1))\n",
    "Cumulative_Nifty_returns = np.cumsum(df[split:]['Nifty_returns'])\n",
    "df['Startegy_returns'] = df['Nifty_returns']* df['Predicted_Signal'].shift(1)\n",
    "Cumulative_Strategy_returns = np.cumsum(df[split:]['Startegy_returns'])\n",
    "plt.figure(figsize=(10,5))\n",
    "plt.plot(Cumulative_Nifty_returns, color='r',label = 'Nifty Returns')\n",
    "plt.plot(Cumulative_Strategy_returns, color='g', label = 'Strategy Returns')\n",
    "plt.legend()\n",
    "plt.show()"
   ]
  },
  {
   "cell_type": "code",
   "execution_count": null,
   "metadata": {},
   "outputs": [],
   "source": []
  }
 ],
 "metadata": {
  "kernelspec": {
   "display_name": "Python 3",
   "language": "python",
   "name": "python3"
  },
  "language_info": {
   "codemirror_mode": {
    "name": "ipython",
    "version": 3
   },
   "file_extension": ".py",
   "mimetype": "text/x-python",
   "name": "python",
   "nbconvert_exporter": "python",
   "pygments_lexer": "ipython3",
   "version": "3.7.6"
  }
 },
 "nbformat": 4,
 "nbformat_minor": 4
}
